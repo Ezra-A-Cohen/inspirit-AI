{
  "nbformat": 4,
  "nbformat_minor": 0,
  "metadata": {
    "colab": {
      "name": "02_Python_Libraries.ipynb",
      "provenance": [],
      "collapsed_sections": [],
      "include_colab_link": true
    },
    "language_info": {
      "codemirror_mode": {
        "name": "ipython",
        "version": 3
      },
      "file_extension": ".py",
      "mimetype": "text/x-python",
      "name": "python",
      "nbconvert_exporter": "python",
      "pygments_lexer": "ipython3",
      "version": "3.6.0"
    },
    "kernelspec": {
      "name": "python3",
      "display_name": "Python 3"
    },
    "accelerator": "GPU"
  },
  "cells": [
    {
      "cell_type": "markdown",
      "metadata": {
        "id": "view-in-github",
        "colab_type": "text"
      },
      "source": [
        "<a href=\"https://colab.research.google.com/github/Ezra-A-Cohen/inspirit-AI/blob/main/02_Python_Libraries.ipynb\" target=\"_parent\"><img src=\"https://colab.research.google.com/assets/colab-badge.svg\" alt=\"Open In Colab\"/></a>"
      ]
    },
    {
      "cell_type": "markdown",
      "source": [
        "while this is slightly more advanced than the last notebook, this was still part of the first phase of the program where they were making sure we knew the basics"
      ],
      "metadata": {
        "id": "_A4Vp0k9pEK6"
      }
    },
    {
      "cell_type": "markdown",
      "metadata": {
        "id": "hdjb4-LEKKbo"
      },
      "source": [
        "# Introduction to NumPy, Pandas, Matplotlib and Seaborn, and Sci-Kit Learn "
      ]
    },
    {
      "cell_type": "code",
      "metadata": {
        "id": "O-AY4gAqGBj9"
      },
      "source": [
        "#@title Run this to prepare your data! { display-mode: \"form\" }\n",
        "import gdown\n",
        "gdown.download('https://drive.google.com/uc?id=1eDhwxZxEnMoKcaR-ATW21ReuKdwpMdrF', 'airline-safety.csv', True);\n",
        "gdown.download('https://drive.google.com/uc?id=14FYQvB05JqfU4d1Wn1LSv_Jh0om7AI0M', 'tips.csv', True);"
      ],
      "execution_count": 1,
      "outputs": []
    },
    {
      "cell_type": "markdown",
      "metadata": {
        "id": "N0p2aNMyKKbq"
      },
      "source": [
        "Before we set out on our journey into the land of artificial intelligence, we must first pack some gear. \n",
        "Some of the essentials include Numpy, Pandas, Matplotlib, and Seaborn. Let's discuss Python Packages first!\n",
        "\n",
        "### Note: In case of time constraint, only do the sections that have an emoji next to the title.\n",
        "\n",
        "## What are Python Packages? "
      ]
    },
    {
      "cell_type": "markdown",
      "metadata": {
        "id": "G9_3omm0KKbs"
      },
      "source": [
        "A Python package is simply a collection of modules — files consisting of Python code. The packages that we'll be looking at today include Numpy, Pandas, Mathplotlib, and Seaborn. Let's begin with NumPy."
      ]
    },
    {
      "cell_type": "markdown",
      "metadata": {
        "id": "YUs6I5u5KKbv"
      },
      "source": [
        "# NumPy: An Introduction  🤖"
      ]
    },
    {
      "cell_type": "markdown",
      "metadata": {
        "id": "yn5x1HxkKKbx"
      },
      "source": [
        "Numpy is the core library for scientific computing in Python. Numpy provides the flexibility to create multidimensional array objects (arrays within arrays) and compute a wide variety of mathematical operations including basic linear algebra, basic statistical operations, random simulation and much more. We will represent all of our data which will be fed into our machine learning models using Numpy."
      ]
    },
    {
      "cell_type": "markdown",
      "metadata": {
        "id": "dNj5CzYeKKb0"
      },
      "source": [
        "We'll start with the standard NumPy import, under the alias np:"
      ]
    },
    {
      "cell_type": "code",
      "metadata": {
        "id": "e1NOvv47KKb1"
      },
      "source": [
        "import numpy as np"
      ],
      "execution_count": 2,
      "outputs": []
    },
    {
      "cell_type": "markdown",
      "metadata": {
        "id": "0vkg7Br-KKcB"
      },
      "source": [
        "### Arrays 🚖"
      ]
    },
    {
      "cell_type": "markdown",
      "metadata": {
        "id": "NfnHIM-RKKcC"
      },
      "source": [
        "An **array** is simply a collection of items. At the heart of a Numpy library is the array object or the ndarray object (n-dimensional array).  Simply put, it is a table of elements (usually numbers and the same type) indexed by a tuple of positive integers. In NumPy dimensions are called **axes**. The number of axes is referred to as **rank**. \n",
        "<br/>\n",
        "Let's create an 1D array of  **taxi rates** (in dollars) by passing it through a list: "
      ]
    },
    {
      "cell_type": "code",
      "metadata": {
        "id": "nDUZfgg5KKcC"
      },
      "source": [
        "a = np.array([12.50, 10.20, 25])"
      ],
      "execution_count": 3,
      "outputs": []
    },
    {
      "cell_type": "markdown",
      "metadata": {
        "id": "VeYSYKLwmTx3"
      },
      "source": [
        "We can view the contents of the array by running the following code:"
      ]
    },
    {
      "cell_type": "code",
      "metadata": {
        "id": "NjUHxfHJKKcE",
        "colab": {
          "base_uri": "https://localhost:8080/"
        },
        "outputId": "883caf97-29c4-42ae-9227-e26074734ef0"
      },
      "source": [
        "a"
      ],
      "execution_count": 4,
      "outputs": [
        {
          "output_type": "execute_result",
          "data": {
            "text/plain": [
              "array([12.5, 10.2, 25. ])"
            ]
          },
          "metadata": {},
          "execution_count": 4
        }
      ]
    },
    {
      "cell_type": "markdown",
      "metadata": {
        "id": "Yw6X4FpkKKcH"
      },
      "source": [
        "Awesome! 👏 Let's now create an multi-dimensional array. "
      ]
    },
    {
      "cell_type": "code",
      "metadata": {
        "id": "zXL1mAmiKKcI"
      },
      "source": [
        "b = np.array([\n",
        "    [19.50, 13, 12, 11 ],\n",
        "    [12.50, 10, 25, 14]])"
      ],
      "execution_count": 5,
      "outputs": []
    },
    {
      "cell_type": "markdown",
      "metadata": {
        "id": "I2dG_H82KKcL"
      },
      "source": [
        "## Exercise 1:  Arrays ⛷"
      ]
    },
    {
      "cell_type": "markdown",
      "metadata": {
        "id": "k_Bai-nKKKcM"
      },
      "source": [
        "Time for our first exercise! \n",
        "- Create a NumPy single - dimensional array and assign it to a variable that describes the following situation:\n",
        "    - Find the weather for the next 5 days in your favorite city, and enter it into the array.\n",
        "- Create another NumPy single - dimensional array and assign it that describes the following situation:\n",
        "    - Write your 5 favorite numbers.\n",
        "- Can you try adding the two arrays? How about subtracting? "
      ]
    },
    {
      "cell_type": "code",
      "metadata": {
        "id": "bmifbdMnaKJK",
        "colab": {
          "base_uri": "https://localhost:8080/"
        },
        "outputId": "18a654af-4a0c-4553-92b9-f5d7fd7b1a0b"
      },
      "source": [
        "weather = np.array([63, 64, 68, 72, 74])\n",
        "favorite = np.array([5,10,15,20, 25])\n",
        "add = weather + favorite\n",
        "subtract = weather - favorite\n",
        "print(add, subtract)"
      ],
      "execution_count": 6,
      "outputs": [
        {
          "output_type": "stream",
          "name": "stdout",
          "text": [
            "[68 74 83 92 99] [58 54 53 52 49]\n"
          ]
        }
      ]
    },
    {
      "cell_type": "markdown",
      "metadata": {
        "id": "kvgbO5Z_KKcR"
      },
      "source": [
        "### Methods ⛵️"
      ]
    },
    {
      "cell_type": "markdown",
      "metadata": {
        "id": "7HZaOocAKKcR"
      },
      "source": [
        "🎉 Let's now explore some of the methods in NumPy. The [**.shape**](https://docs.scipy.org/doc/numpy/reference/generated/numpy.ndarray.shape.html) method for nparray returns the dimensions of the given array. For example, [x].shape returns the (vertical, horizontal) dimensions of the variable x. Let's use .shape to find the dimensions of the multi-dimensional array that we've created above:\n",
        "\n",
        "_Can you guess the shape before running the command?_"
      ]
    },
    {
      "cell_type": "code",
      "metadata": {
        "id": "wqNlN3rOKKcS",
        "colab": {
          "base_uri": "https://localhost:8080/"
        },
        "outputId": "69519e70-d926-44ba-ef9b-1691967f0f39"
      },
      "source": [
        "b.shape"
      ],
      "execution_count": 7,
      "outputs": [
        {
          "output_type": "execute_result",
          "data": {
            "text/plain": [
              "(2, 4)"
            ]
          },
          "metadata": {},
          "execution_count": 7
        }
      ]
    },
    {
      "cell_type": "markdown",
      "metadata": {
        "id": "3jMyi9hVmynw"
      },
      "source": [
        "Note that multi-dimensional arrays can also have more than two dimensions. A three-dimensional array, for example, has arrays within arrays within arrays. Calling array.shape on a 3-dimensional array would return three numbers: (num1, num2, num3).\n",
        " \n",
        "**Make sure you understand the concept of shapes because this will come up again and again throughout your machine learning experience!**"
      ]
    },
    {
      "cell_type": "markdown",
      "metadata": {
        "id": "wc48ME-lKKcT"
      },
      "source": [
        "The [**.linspace**](https://docs.scipy.org/doc/numpy/reference/generated/numpy.linspace.html) method is used to return evenly spaced numbers over a specified interval. Let's create an array of 6 integers between 0 and 100 to demonstrate this method: "
      ]
    },
    {
      "cell_type": "code",
      "metadata": {
        "scrolled": true,
        "id": "FnUeQq9wKKcU",
        "colab": {
          "base_uri": "https://localhost:8080/"
        },
        "outputId": "65b018ed-79a8-4198-df67-1d2320f376f3"
      },
      "source": [
        "np.linspace(0,100,6)"
      ],
      "execution_count": 8,
      "outputs": [
        {
          "output_type": "execute_result",
          "data": {
            "text/plain": [
              "array([  0.,  20.,  40.,  60.,  80., 100.])"
            ]
          },
          "metadata": {},
          "execution_count": 8
        }
      ]
    },
    {
      "cell_type": "markdown",
      "metadata": {
        "id": "087T2UAcKKcW"
      },
      "source": [
        "How about if we wanted to decide the step? The [**.arange**](https://docs.scipy.org/doc/numpy/reference/generated/numpy.linspace.html) method allows us to return evenly spaced values within an given interval. "
      ]
    },
    {
      "cell_type": "code",
      "metadata": {
        "id": "-f6sV7WmKKcW",
        "colab": {
          "base_uri": "https://localhost:8080/"
        },
        "outputId": "7956d00d-a085-4c2e-fa15-541f963b31fe"
      },
      "source": [
        "np.arange(0,10,3)"
      ],
      "execution_count": 9,
      "outputs": [
        {
          "output_type": "execute_result",
          "data": {
            "text/plain": [
              "array([0, 3, 6, 9])"
            ]
          },
          "metadata": {},
          "execution_count": 9
        }
      ]
    },
    {
      "cell_type": "markdown",
      "metadata": {
        "id": "5S10euQrKKcY"
      },
      "source": [
        "Yay! 🙌 What if we didn't want to define the interval or the step? The [**.random.rand**](https://docs.scipy.org/doc/numpy/reference/generated/numpy.random.rand.html) method accomplishes this purpose by creating an array of a specified shape and fills it with random values. Let's create a 4 x 5 array of random floats between 0-1:"
      ]
    },
    {
      "cell_type": "code",
      "metadata": {
        "scrolled": true,
        "id": "GnqUmK-4KKcZ",
        "colab": {
          "base_uri": "https://localhost:8080/"
        },
        "outputId": "18d0ac03-5166-477a-c5b1-e3d040f1361e"
      },
      "source": [
        "np.random.rand(4,5)"
      ],
      "execution_count": 10,
      "outputs": [
        {
          "output_type": "execute_result",
          "data": {
            "text/plain": [
              "array([[0.56294756, 0.20451955, 0.19668497, 0.01207413, 0.91161551],\n",
              "       [0.62748868, 0.12440146, 0.76382331, 0.80759953, 0.96234263],\n",
              "       [0.79274267, 0.8394243 , 0.65689737, 0.7804838 , 0.46448543],\n",
              "       [0.26129361, 0.52097182, 0.65034688, 0.00970288, 0.16741231]])"
            ]
          },
          "metadata": {},
          "execution_count": 10
        }
      ]
    },
    {
      "cell_type": "markdown",
      "metadata": {
        "id": "mA9K9rq_KKcb"
      },
      "source": [
        "If we want to increase the size of the floats between an certain interval (0-100), we can simply multiply by the highest digit in that interval: "
      ]
    },
    {
      "cell_type": "code",
      "metadata": {
        "id": "WNPNeWe7KKcc",
        "colab": {
          "base_uri": "https://localhost:8080/"
        },
        "outputId": "b7a5fbdd-e773-43f1-8864-81cfd5de667d"
      },
      "source": [
        "np.random.rand(4,5)*100"
      ],
      "execution_count": 11,
      "outputs": [
        {
          "output_type": "execute_result",
          "data": {
            "text/plain": [
              "array([[ 2.31498359, 27.30548614, 13.97453454, 35.37053184, 55.29259908],\n",
              "       [36.45397763, 90.54019388, 38.48295024, 84.27690985, 24.76299245],\n",
              "       [55.45718214, 52.47072015, 89.11994935,  3.42305735, 85.75849183],\n",
              "       [83.71069062, 97.55910368, 90.61894489, 50.18000627, 81.44010032]])"
            ]
          },
          "metadata": {},
          "execution_count": 11
        }
      ]
    },
    {
      "cell_type": "markdown",
      "metadata": {
        "id": "syIDcJjWnaMl"
      },
      "source": [
        "Notice how the numbers when you call the random function are different the second time. This is because it generates new numbers each time."
      ]
    },
    {
      "cell_type": "markdown",
      "metadata": {
        "id": "C1huCd_VKKce"
      },
      "source": [
        "We can also explore some of the properties of the array. The [**.dtype**](https://docs.scipy.org/doc/numpy/reference/arrays.dtypes.html)  method outputs the type of elements in an given array:"
      ]
    },
    {
      "cell_type": "code",
      "metadata": {
        "id": "9iOKWg0RKKce"
      },
      "source": [
        "c = np.arange(0,10,3)"
      ],
      "execution_count": 12,
      "outputs": []
    },
    {
      "cell_type": "code",
      "metadata": {
        "id": "epO-qdqMKKcf",
        "colab": {
          "base_uri": "https://localhost:8080/"
        },
        "outputId": "664b846a-55c1-4ad3-c65d-248d4d151469"
      },
      "source": [
        "c.dtype"
      ],
      "execution_count": 13,
      "outputs": [
        {
          "output_type": "execute_result",
          "data": {
            "text/plain": [
              "dtype('int64')"
            ]
          },
          "metadata": {},
          "execution_count": 13
        }
      ]
    },
    {
      "cell_type": "markdown",
      "metadata": {
        "id": "5t-BnlMuKKci"
      },
      "source": [
        "Kudos! **int64** simply means that the elements in the array are integers. Remember that NumPy arrays only support an *singular* data type for each array unlike Python arrays. Other data types include **float64** and **double64**, which are used to specify numbers with decimals (**int64**s must be whole numbers)."
      ]
    },
    {
      "cell_type": "markdown",
      "metadata": {
        "id": "7hw-t9USKKci"
      },
      "source": [
        "## Exercise 2: Methods 🏃"
      ]
    },
    {
      "cell_type": "markdown",
      "metadata": {
        "id": "XYiYhMliKKci"
      },
      "source": [
        "Time to test our skills!"
      ]
    },
    {
      "cell_type": "markdown",
      "metadata": {
        "id": "McnS13TaKKcj"
      },
      "source": [
        "- Using the **.shape** method, find the dimensions of the array containing the weather of your favorite city. \n",
        "- Use the **.linspace** method to create an array of 5 evenly-spaced integers between 15 and 45\n",
        "- Create a 3x6 array using the **.random.rand()** method"
      ]
    },
    {
      "cell_type": "code",
      "metadata": {
        "id": "KHvHJkde1axp",
        "colab": {
          "base_uri": "https://localhost:8080/"
        },
        "outputId": "87fdb778-f7f0-438e-c68f-2a97735f8d7e"
      },
      "source": [
        "print(weather.shape)\n",
        "print(np.linspace(15, 45, 5))\n",
        "print(np.random.rand(3,6))"
      ],
      "execution_count": 14,
      "outputs": [
        {
          "output_type": "stream",
          "name": "stdout",
          "text": [
            "(5,)\n",
            "[15.  22.5 30.  37.5 45. ]\n",
            "[[0.85844247 0.88048783 0.88774448 0.79219787 0.96036884 0.95368367]\n",
            " [0.6369959  0.30802503 0.34685764 0.41223409 0.0532166  0.20264587]\n",
            " [0.59748946 0.1474628  0.45813545 0.00283232 0.85027241 0.27953318]]\n"
          ]
        }
      ]
    },
    {
      "cell_type": "markdown",
      "metadata": {
        "id": "NMzjIw1KKKcl"
      },
      "source": [
        "## Operations "
      ]
    },
    {
      "cell_type": "markdown",
      "metadata": {
        "id": "CC561yHBKKcl"
      },
      "source": [
        "NumPy offers the ability to compute arrays together. "
      ]
    },
    {
      "cell_type": "code",
      "metadata": {
        "id": "f33m7hEfKKcl"
      },
      "source": [
        "x = np.array([3,4,5])"
      ],
      "execution_count": 15,
      "outputs": []
    },
    {
      "cell_type": "code",
      "metadata": {
        "id": "vw3NHRzzKKcm"
      },
      "source": [
        "y = np.array([1,2,3])"
      ],
      "execution_count": 16,
      "outputs": []
    },
    {
      "cell_type": "markdown",
      "metadata": {
        "id": "S6lON11SKKcn"
      },
      "source": [
        "We can use traditional math symbols to add, subtract, multiply, and divide the two arrays: "
      ]
    },
    {
      "cell_type": "code",
      "metadata": {
        "id": "bQJyXZ7jKKcn",
        "colab": {
          "base_uri": "https://localhost:8080/"
        },
        "outputId": "8761a393-cfce-4e9e-cd28-14f7c06e400a"
      },
      "source": [
        "print(x + y)\n",
        "print(x - y)\n",
        "print(x * y)\n",
        "print(x / y)\n",
        "print(x**2)"
      ],
      "execution_count": 17,
      "outputs": [
        {
          "output_type": "stream",
          "name": "stdout",
          "text": [
            "[4 6 8]\n",
            "[2 2 2]\n",
            "[ 3  8 15]\n",
            "[3.         2.         1.66666667]\n",
            "[ 9 16 25]\n"
          ]
        }
      ]
    },
    {
      "cell_type": "markdown",
      "metadata": {
        "id": "NA9kJJ3WKKcp"
      },
      "source": [
        "## Scalar Math"
      ]
    },
    {
      "cell_type": "markdown",
      "metadata": {
        "id": "RU3du0U6KKcp"
      },
      "source": [
        "We can use basic functions to add, subtract, multiply, divide, and power the array:\n",
        "\n",
        "_Can you guess the output before running command?_"
      ]
    },
    {
      "cell_type": "code",
      "metadata": {
        "id": "Ty8_QhprKKcp",
        "colab": {
          "base_uri": "https://localhost:8080/"
        },
        "outputId": "b2bb1c61-2527-4ba4-b57b-de88146f90ba"
      },
      "source": [
        "np.add(x,1)"
      ],
      "execution_count": 18,
      "outputs": [
        {
          "output_type": "execute_result",
          "data": {
            "text/plain": [
              "array([4, 5, 6])"
            ]
          },
          "metadata": {},
          "execution_count": 18
        }
      ]
    },
    {
      "cell_type": "code",
      "metadata": {
        "id": "6Z4nK4UDKKcr",
        "colab": {
          "base_uri": "https://localhost:8080/"
        },
        "outputId": "47ceb113-55c1-40e8-9d19-eb08c1c9c26d"
      },
      "source": [
        "np.subtract(x,2)"
      ],
      "execution_count": 19,
      "outputs": [
        {
          "output_type": "execute_result",
          "data": {
            "text/plain": [
              "array([1, 2, 3])"
            ]
          },
          "metadata": {},
          "execution_count": 19
        }
      ]
    },
    {
      "cell_type": "code",
      "metadata": {
        "id": "W8xNSNODKKcs",
        "colab": {
          "base_uri": "https://localhost:8080/"
        },
        "outputId": "edf444bd-3310-4b38-f94f-3ad7140ddc39"
      },
      "source": [
        "np.multiply(x,3)"
      ],
      "execution_count": 20,
      "outputs": [
        {
          "output_type": "execute_result",
          "data": {
            "text/plain": [
              "array([ 9, 12, 15])"
            ]
          },
          "metadata": {},
          "execution_count": 20
        }
      ]
    },
    {
      "cell_type": "code",
      "metadata": {
        "id": "qTGgDdteKKct",
        "colab": {
          "base_uri": "https://localhost:8080/"
        },
        "outputId": "1ab40b65-aad9-431a-b770-b38208bcb1c4"
      },
      "source": [
        "np.divide(x,4)"
      ],
      "execution_count": 21,
      "outputs": [
        {
          "output_type": "execute_result",
          "data": {
            "text/plain": [
              "array([0.75, 1.  , 1.25])"
            ]
          },
          "metadata": {},
          "execution_count": 21
        }
      ]
    },
    {
      "cell_type": "code",
      "metadata": {
        "id": "u-Cf5OfBKKcu",
        "colab": {
          "base_uri": "https://localhost:8080/"
        },
        "outputId": "7f79f10d-9a12-4d39-d1dc-13f174b21632"
      },
      "source": [
        "np.power(x,5)"
      ],
      "execution_count": 22,
      "outputs": [
        {
          "output_type": "execute_result",
          "data": {
            "text/plain": [
              "array([ 243, 1024, 3125])"
            ]
          },
          "metadata": {},
          "execution_count": 22
        }
      ]
    },
    {
      "cell_type": "markdown",
      "metadata": {
        "id": "SfOGy3YXKKcv"
      },
      "source": [
        "## Indexing, Slicing and Reshaping 🔭"
      ]
    },
    {
      "cell_type": "markdown",
      "metadata": {
        "id": "oGZo5zPWKKcw"
      },
      "source": [
        "Now, we're going to explore some of the functions in Python. First, let's create an array with 12 numbers using the **arange** method in increments of 5:"
      ]
    },
    {
      "cell_type": "code",
      "metadata": {
        "id": "u8nJkGpqKKcw",
        "colab": {
          "base_uri": "https://localhost:8080/"
        },
        "outputId": "311b8d8e-a413-4baf-cbd2-6709e6e7375d"
      },
      "source": [
        "s = np.arange(12)*5 # note this is same as np.arange(0,12,1)*5\n",
        "s"
      ],
      "execution_count": 23,
      "outputs": [
        {
          "output_type": "execute_result",
          "data": {
            "text/plain": [
              "array([ 0,  5, 10, 15, 20, 25, 30, 35, 40, 45, 50, 55])"
            ]
          },
          "metadata": {},
          "execution_count": 23
        }
      ]
    },
    {
      "cell_type": "markdown",
      "metadata": {
        "id": "KFKdNcVCKKcx"
      },
      "source": [
        "**Indexing** refers to retrieving a specific element of an array. Let's find the 3rd value in the above array:"
      ]
    },
    {
      "cell_type": "code",
      "metadata": {
        "id": "it-5rQ-AKKcx",
        "colab": {
          "base_uri": "https://localhost:8080/"
        },
        "outputId": "c01db57e-243a-4d0f-e0bd-32b4463e0dcf"
      },
      "source": [
        "s[2]"
      ],
      "execution_count": 24,
      "outputs": [
        {
          "output_type": "execute_result",
          "data": {
            "text/plain": [
              "10"
            ]
          },
          "metadata": {},
          "execution_count": 24
        }
      ]
    },
    {
      "cell_type": "markdown",
      "metadata": {
        "id": "40b-h-2JKKcy"
      },
      "source": [
        "**Note**: The values of an array always start with x[0]. We can also retrieve values within an certain range using the **:** symbol:"
      ]
    },
    {
      "cell_type": "code",
      "metadata": {
        "id": "2BP_MEpXKKcz",
        "colab": {
          "base_uri": "https://localhost:8080/"
        },
        "outputId": "3b7db102-e2a7-4cd6-b124-94688fe955a8"
      },
      "source": [
        "s[2:5]"
      ],
      "execution_count": 25,
      "outputs": [
        {
          "output_type": "execute_result",
          "data": {
            "text/plain": [
              "array([10, 15, 20])"
            ]
          },
          "metadata": {},
          "execution_count": 25
        }
      ]
    },
    {
      "cell_type": "markdown",
      "metadata": {
        "id": "0f4WW1dyKKc0"
      },
      "source": [
        "😎 Now, let's try combining two arrays using [**concatenate( )**](https://docs.scipy.org/doc/numpy/reference/generated/numpy.concatenate.html) and add 'a' as rows to the end of 's':"
      ]
    },
    {
      "cell_type": "code",
      "metadata": {
        "id": "zZhuYVWVKKc0",
        "colab": {
          "base_uri": "https://localhost:8080/"
        },
        "outputId": "d7af2e51-a661-43a7-d28d-0c57212b4a8b"
      },
      "source": [
        "np.concatenate((s,a))"
      ],
      "execution_count": 26,
      "outputs": [
        {
          "output_type": "execute_result",
          "data": {
            "text/plain": [
              "array([ 0. ,  5. , 10. , 15. , 20. , 25. , 30. , 35. , 40. , 45. , 50. ,\n",
              "       55. , 12.5, 10.2, 25. ])"
            ]
          },
          "metadata": {},
          "execution_count": 26
        }
      ]
    },
    {
      "cell_type": "markdown",
      "metadata": {
        "id": "Lzdq-SN9KKc1"
      },
      "source": [
        "🙌 How about splitting arrays? We can use the [**.split()**](https://docs.scipy.org/doc/numpy/reference/generated/numpy.concatenate.html) method to split the s array in sub-arrays:"
      ]
    },
    {
      "cell_type": "code",
      "metadata": {
        "id": "iFxWISKcKKc2",
        "colab": {
          "base_uri": "https://localhost:8080/"
        },
        "outputId": "4bd8da33-05cc-4026-ec63-8159b41b17ba"
      },
      "source": [
        "z = np.arange(9.0)\n",
        "z"
      ],
      "execution_count": 27,
      "outputs": [
        {
          "output_type": "execute_result",
          "data": {
            "text/plain": [
              "array([0., 1., 2., 3., 4., 5., 6., 7., 8.])"
            ]
          },
          "metadata": {},
          "execution_count": 27
        }
      ]
    },
    {
      "cell_type": "code",
      "metadata": {
        "id": "_JM8BwQcKKc3"
      },
      "source": [
        "split_arr = np.split(z, 3)"
      ],
      "execution_count": 28,
      "outputs": []
    },
    {
      "cell_type": "code",
      "metadata": {
        "id": "7hddEf4zFL7L",
        "colab": {
          "base_uri": "https://localhost:8080/"
        },
        "outputId": "c4016695-17cd-498b-a982-7290f7ba7166"
      },
      "source": [
        "split_arr"
      ],
      "execution_count": 29,
      "outputs": [
        {
          "output_type": "execute_result",
          "data": {
            "text/plain": [
              "[array([0., 1., 2.]), array([3., 4., 5.]), array([6., 7., 8.])]"
            ]
          },
          "metadata": {},
          "execution_count": 29
        }
      ]
    },
    {
      "cell_type": "markdown",
      "metadata": {
        "id": "xxIhNlDNE28F"
      },
      "source": [
        "**What do y'all think the shape of the above array is?**"
      ]
    },
    {
      "cell_type": "code",
      "metadata": {
        "id": "Rv6OJqbZFOp6",
        "colab": {
          "base_uri": "https://localhost:8080/"
        },
        "outputId": "4b7d20a9-1f12-4f2a-8982-2cd742be4968"
      },
      "source": [
        "np.array(split_arr).shape"
      ],
      "execution_count": 30,
      "outputs": [
        {
          "output_type": "execute_result",
          "data": {
            "text/plain": [
              "(3, 3)"
            ]
          },
          "metadata": {},
          "execution_count": 30
        }
      ]
    },
    {
      "cell_type": "markdown",
      "metadata": {
        "id": "GAZ7v5w8KKc4"
      },
      "source": [
        "## Exercise: Indexing, Slicing and Reshaping"
      ]
    },
    {
      "cell_type": "markdown",
      "metadata": {
        "id": "5bAZWakZKKc4"
      },
      "source": [
        "Time for a test!"
      ]
    },
    {
      "cell_type": "markdown",
      "metadata": {
        "id": "yGbwUaHwKKc4"
      },
      "source": [
        "- Using the **arange** method, create an array of 5 numbers in increments of 10. Call it 'oreo'\n",
        "- Retrieve the 3rd number in the above array named 'oreo'\n",
        "- Create another array of 5 numbers in increments of 15. Use any method you like and call it 'milk'\n",
        "- Retrive the 1st number in the above array named 'milk' <br>\n",
        "Can you eat those many oreos and drink that many cups of milk? You decide! 🥛 "
      ]
    },
    {
      "cell_type": "code",
      "metadata": {
        "id": "JDFY9uNd1gTS",
        "colab": {
          "base_uri": "https://localhost:8080/"
        },
        "outputId": "886bb958-cf4d-491c-f0d9-4ac8099274b2"
      },
      "source": [
        "oreo = np.arange(5,11)*10\n",
        "oreo"
      ],
      "execution_count": 31,
      "outputs": [
        {
          "output_type": "execute_result",
          "data": {
            "text/plain": [
              "array([ 50,  60,  70,  80,  90, 100])"
            ]
          },
          "metadata": {},
          "execution_count": 31
        }
      ]
    },
    {
      "cell_type": "code",
      "metadata": {
        "id": "GJIsd7li1g7r",
        "colab": {
          "base_uri": "https://localhost:8080/"
        },
        "outputId": "9209781a-3bb1-48c0-9dc9-147577d32b71"
      },
      "source": [
        "oreo[2]"
      ],
      "execution_count": 32,
      "outputs": [
        {
          "output_type": "execute_result",
          "data": {
            "text/plain": [
              "70"
            ]
          },
          "metadata": {},
          "execution_count": 32
        }
      ]
    },
    {
      "cell_type": "code",
      "metadata": {
        "id": "p8kCdGOT1hPs",
        "colab": {
          "base_uri": "https://localhost:8080/"
        },
        "outputId": "060bbd66-9ad9-43bb-e617-490ddaca852a"
      },
      "source": [
        "milk = np.arange(1,6)*15\n",
        "milk"
      ],
      "execution_count": 33,
      "outputs": [
        {
          "output_type": "execute_result",
          "data": {
            "text/plain": [
              "array([15, 30, 45, 60, 75])"
            ]
          },
          "metadata": {},
          "execution_count": 33
        }
      ]
    },
    {
      "cell_type": "code",
      "metadata": {
        "id": "_Ai9MPyD1hcU",
        "colab": {
          "base_uri": "https://localhost:8080/"
        },
        "outputId": "9d642b6a-f2b7-4948-d914-1b03956e898c"
      },
      "source": [
        "milk[0]"
      ],
      "execution_count": 34,
      "outputs": [
        {
          "output_type": "execute_result",
          "data": {
            "text/plain": [
              "15"
            ]
          },
          "metadata": {},
          "execution_count": 34
        }
      ]
    },
    {
      "cell_type": "markdown",
      "metadata": {
        "id": "eqbcMLWOKKc4"
      },
      "source": [
        "😀 We've completed our review of NumPy! After you take a quick break - walk around, drink water - let's move on to Pandas. "
      ]
    },
    {
      "cell_type": "markdown",
      "metadata": {
        "id": "WfqaMtQ-KKc4"
      },
      "source": [
        "# Pandas: An Introduction 🐼 "
      ]
    },
    {
      "cell_type": "markdown",
      "metadata": {
        "id": "fdnANq-9KKc5"
      },
      "source": [
        "Pandas is an open source Python package that provides numerous tools for data analysis. Pandas provides </br> fast, flexible, and expressive data structures designed to make working with structured (tabular, multidimensional, potentially heterogeneous) and time series data both easy and intuitive. It aims to be the fundamental high-level building block for doing practical, real world data analysis in Python. \n",
        "\n",
        "We'll take look at some of the core ideas in Pandas here. You can learn more about Pandas in their official [documentation](http://pandas.pydata.org)."
      ]
    },
    {
      "cell_type": "markdown",
      "metadata": {
        "id": "4DM2GJ-9KKc5"
      },
      "source": [
        "## [Pandas Series](https://pandas.pydata.org/pandas-docs/stable/reference/api/pandas.Series.html) ❄️"
      ]
    },
    {
      "cell_type": "markdown",
      "metadata": {
        "id": "zqgi1nU3KKc5"
      },
      "source": [
        "A **Series** is similar to an one dimensional array and can store data of any type. The values of a Pandas Series are mutable but the size of a Series is immutable and cannot be changed.<br>\n",
        "The first element in the series is assigned the index 0, while the last element is at index N-1, where N is the total number of elements in the series."
      ]
    },
    {
      "cell_type": "markdown",
      "metadata": {
        "id": "6VIa2HCGKKc5"
      },
      "source": [
        "Let's first **import** pandas under the common alias **pd**:"
      ]
    },
    {
      "cell_type": "code",
      "metadata": {
        "id": "9VyI95ekKKc5"
      },
      "source": [
        "import pandas as pd"
      ],
      "execution_count": 35,
      "outputs": []
    },
    {
      "cell_type": "markdown",
      "metadata": {
        "id": "EO-qBtXSKKc6"
      },
      "source": [
        "### Creating a Pandas Series"
      ]
    },
    {
      "cell_type": "markdown",
      "metadata": {
        "id": "EhnXEyJhKKc6"
      },
      "source": [
        "We can create a series by invoking the pd.Series( ) method, like this: "
      ]
    },
    {
      "cell_type": "code",
      "metadata": {
        "id": "M5ib0-EyKKc6"
      },
      "source": [
        "decades = pd.Series(np.array([10,20,30,40,50,60])) "
      ],
      "execution_count": 36,
      "outputs": []
    },
    {
      "cell_type": "code",
      "metadata": {
        "id": "3ySUr90TKKc7",
        "colab": {
          "base_uri": "https://localhost:8080/"
        },
        "outputId": "de0061d7-e3f2-4c23-bcd6-9fd388b6d7d4"
      },
      "source": [
        "decades"
      ],
      "execution_count": 37,
      "outputs": [
        {
          "output_type": "execute_result",
          "data": {
            "text/plain": [
              "0    10\n",
              "1    20\n",
              "2    30\n",
              "3    40\n",
              "4    50\n",
              "5    60\n",
              "dtype: int64"
            ]
          },
          "metadata": {},
          "execution_count": 37
        }
      ]
    },
    {
      "cell_type": "markdown",
      "metadata": {
        "id": "iQVRDE8hKKc8"
      },
      "source": [
        "As shown above, the index is assigned values from 0-5. "
      ]
    },
    {
      "cell_type": "markdown",
      "metadata": {
        "id": "87_wqVs5KKc8"
      },
      "source": [
        "## Exercise: Pandas Series🎿"
      ]
    },
    {
      "cell_type": "markdown",
      "metadata": {
        "id": "REG7WpeOKKc8"
      },
      "source": [
        "Exercise time!"
      ]
    },
    {
      "cell_type": "markdown",
      "metadata": {
        "id": "nOpmyZmPKKc9"
      },
      "source": [
        "- Create a Series for the lowest GDP's in the world:\n",
        "    - Czech Republic: 264.50\n",
        "    - Iraq:\t250.07\n",
        "    - Romania: 248.84\n",
        "    - Portugal:\t242.83\t\n",
        "\n",
        "Tip: See what arguments are available in [pd.Series](https://pandas.pydata.org/pandas-docs/stable/reference/api/pandas.Series.html) and use the countries as the index."
      ]
    },
    {
      "cell_type": "code",
      "metadata": {
        "id": "IZ-XaNVc1n21",
        "colab": {
          "base_uri": "https://localhost:8080/"
        },
        "outputId": "6ff182b8-d0bb-4a5c-d077-d1c668c4758c"
      },
      "source": [
        "import pandas as pd\n",
        "import numpy as np\n",
        "gdp = pd.Series(np.array([264.5, 250.07, 248.84, 242.83]), \n",
        "                ['Czech Republic','Iraq','Romania','Portgual']) \n",
        "print (gdp)"
      ],
      "execution_count": 38,
      "outputs": [
        {
          "output_type": "stream",
          "name": "stdout",
          "text": [
            "Czech Republic    264.50\n",
            "Iraq              250.07\n",
            "Romania           248.84\n",
            "Portgual          242.83\n",
            "dtype: float64\n"
          ]
        }
      ]
    },
    {
      "cell_type": "markdown",
      "metadata": {
        "id": "2jjaY7yYKKc9"
      },
      "source": [
        "## [Pandas DataFrame](https://pandas.pydata.org/pandas-docs/stable/reference/api/pandas.DataFrame.html) 🐨"
      ]
    },
    {
      "cell_type": "markdown",
      "metadata": {
        "id": "ASC15gj_KKc9"
      },
      "source": [
        "The DataFrame is similar to a table. It organizes data into rows and columns as an two-dimensional data structure. The columns can be of different types, and the size of a DataFrame is modifiable. <br>\n",
        "Let's create a DataFrame of 14 animals, populated with age, weight, and length. <br> First, let's create a Python dictionary. "
      ]
    },
    {
      "cell_type": "code",
      "metadata": {
        "id": "vNcT0_XVKKc9"
      },
      "source": [
        "animal_dict = {\n",
        "     'Animal' : [\"Hamster\", \"Alligator\", \"Hamster\",\"Cat\", \"Snake\", \"Cat\",\"Hamster\", \"Cat\", \"Cat\", \"Snake\", \"Hamster\", \"Hamster\", \"Cat\", \"Alligator\"],\n",
        "     'Age' : [1,9,4,13,14,10,2,4,14,7,14,2,1,7],\n",
        "     'Weight': [7,13,8,12,11,8,10,14,9,11,10,10,9,14], \n",
        "     'Length' : [8,6,9,1,8,9,5,6,6,6,5,3,4,5] \n",
        "}"
      ],
      "execution_count": 39,
      "outputs": []
    },
    {
      "cell_type": "markdown",
      "metadata": {
        "id": "ZDTmV7eEKKc-"
      },
      "source": [
        "Now, let's turn our Python dictionary into a DataFrame:"
      ]
    },
    {
      "cell_type": "code",
      "metadata": {
        "id": "UzIddfJFKKc-",
        "colab": {
          "base_uri": "https://localhost:8080/",
          "height": 488
        },
        "outputId": "07db4f66-7e53-41f5-dcf1-8c3bdf900a48"
      },
      "source": [
        "animal = pd.DataFrame(animal_dict)\n",
        "animal"
      ],
      "execution_count": 40,
      "outputs": [
        {
          "output_type": "execute_result",
          "data": {
            "text/html": [
              "\n",
              "  <div id=\"df-288bf3a4-591e-409b-8171-b4fcd23b3fe8\">\n",
              "    <div class=\"colab-df-container\">\n",
              "      <div>\n",
              "<style scoped>\n",
              "    .dataframe tbody tr th:only-of-type {\n",
              "        vertical-align: middle;\n",
              "    }\n",
              "\n",
              "    .dataframe tbody tr th {\n",
              "        vertical-align: top;\n",
              "    }\n",
              "\n",
              "    .dataframe thead th {\n",
              "        text-align: right;\n",
              "    }\n",
              "</style>\n",
              "<table border=\"1\" class=\"dataframe\">\n",
              "  <thead>\n",
              "    <tr style=\"text-align: right;\">\n",
              "      <th></th>\n",
              "      <th>Animal</th>\n",
              "      <th>Age</th>\n",
              "      <th>Weight</th>\n",
              "      <th>Length</th>\n",
              "    </tr>\n",
              "  </thead>\n",
              "  <tbody>\n",
              "    <tr>\n",
              "      <th>0</th>\n",
              "      <td>Hamster</td>\n",
              "      <td>1</td>\n",
              "      <td>7</td>\n",
              "      <td>8</td>\n",
              "    </tr>\n",
              "    <tr>\n",
              "      <th>1</th>\n",
              "      <td>Alligator</td>\n",
              "      <td>9</td>\n",
              "      <td>13</td>\n",
              "      <td>6</td>\n",
              "    </tr>\n",
              "    <tr>\n",
              "      <th>2</th>\n",
              "      <td>Hamster</td>\n",
              "      <td>4</td>\n",
              "      <td>8</td>\n",
              "      <td>9</td>\n",
              "    </tr>\n",
              "    <tr>\n",
              "      <th>3</th>\n",
              "      <td>Cat</td>\n",
              "      <td>13</td>\n",
              "      <td>12</td>\n",
              "      <td>1</td>\n",
              "    </tr>\n",
              "    <tr>\n",
              "      <th>4</th>\n",
              "      <td>Snake</td>\n",
              "      <td>14</td>\n",
              "      <td>11</td>\n",
              "      <td>8</td>\n",
              "    </tr>\n",
              "    <tr>\n",
              "      <th>5</th>\n",
              "      <td>Cat</td>\n",
              "      <td>10</td>\n",
              "      <td>8</td>\n",
              "      <td>9</td>\n",
              "    </tr>\n",
              "    <tr>\n",
              "      <th>6</th>\n",
              "      <td>Hamster</td>\n",
              "      <td>2</td>\n",
              "      <td>10</td>\n",
              "      <td>5</td>\n",
              "    </tr>\n",
              "    <tr>\n",
              "      <th>7</th>\n",
              "      <td>Cat</td>\n",
              "      <td>4</td>\n",
              "      <td>14</td>\n",
              "      <td>6</td>\n",
              "    </tr>\n",
              "    <tr>\n",
              "      <th>8</th>\n",
              "      <td>Cat</td>\n",
              "      <td>14</td>\n",
              "      <td>9</td>\n",
              "      <td>6</td>\n",
              "    </tr>\n",
              "    <tr>\n",
              "      <th>9</th>\n",
              "      <td>Snake</td>\n",
              "      <td>7</td>\n",
              "      <td>11</td>\n",
              "      <td>6</td>\n",
              "    </tr>\n",
              "    <tr>\n",
              "      <th>10</th>\n",
              "      <td>Hamster</td>\n",
              "      <td>14</td>\n",
              "      <td>10</td>\n",
              "      <td>5</td>\n",
              "    </tr>\n",
              "    <tr>\n",
              "      <th>11</th>\n",
              "      <td>Hamster</td>\n",
              "      <td>2</td>\n",
              "      <td>10</td>\n",
              "      <td>3</td>\n",
              "    </tr>\n",
              "    <tr>\n",
              "      <th>12</th>\n",
              "      <td>Cat</td>\n",
              "      <td>1</td>\n",
              "      <td>9</td>\n",
              "      <td>4</td>\n",
              "    </tr>\n",
              "    <tr>\n",
              "      <th>13</th>\n",
              "      <td>Alligator</td>\n",
              "      <td>7</td>\n",
              "      <td>14</td>\n",
              "      <td>5</td>\n",
              "    </tr>\n",
              "  </tbody>\n",
              "</table>\n",
              "</div>\n",
              "      <button class=\"colab-df-convert\" onclick=\"convertToInteractive('df-288bf3a4-591e-409b-8171-b4fcd23b3fe8')\"\n",
              "              title=\"Convert this dataframe to an interactive table.\"\n",
              "              style=\"display:none;\">\n",
              "        \n",
              "  <svg xmlns=\"http://www.w3.org/2000/svg\" height=\"24px\"viewBox=\"0 0 24 24\"\n",
              "       width=\"24px\">\n",
              "    <path d=\"M0 0h24v24H0V0z\" fill=\"none\"/>\n",
              "    <path d=\"M18.56 5.44l.94 2.06.94-2.06 2.06-.94-2.06-.94-.94-2.06-.94 2.06-2.06.94zm-11 1L8.5 8.5l.94-2.06 2.06-.94-2.06-.94L8.5 2.5l-.94 2.06-2.06.94zm10 10l.94 2.06.94-2.06 2.06-.94-2.06-.94-.94-2.06-.94 2.06-2.06.94z\"/><path d=\"M17.41 7.96l-1.37-1.37c-.4-.4-.92-.59-1.43-.59-.52 0-1.04.2-1.43.59L10.3 9.45l-7.72 7.72c-.78.78-.78 2.05 0 2.83L4 21.41c.39.39.9.59 1.41.59.51 0 1.02-.2 1.41-.59l7.78-7.78 2.81-2.81c.8-.78.8-2.07 0-2.86zM5.41 20L4 18.59l7.72-7.72 1.47 1.35L5.41 20z\"/>\n",
              "  </svg>\n",
              "      </button>\n",
              "      \n",
              "  <style>\n",
              "    .colab-df-container {\n",
              "      display:flex;\n",
              "      flex-wrap:wrap;\n",
              "      gap: 12px;\n",
              "    }\n",
              "\n",
              "    .colab-df-convert {\n",
              "      background-color: #E8F0FE;\n",
              "      border: none;\n",
              "      border-radius: 50%;\n",
              "      cursor: pointer;\n",
              "      display: none;\n",
              "      fill: #1967D2;\n",
              "      height: 32px;\n",
              "      padding: 0 0 0 0;\n",
              "      width: 32px;\n",
              "    }\n",
              "\n",
              "    .colab-df-convert:hover {\n",
              "      background-color: #E2EBFA;\n",
              "      box-shadow: 0px 1px 2px rgba(60, 64, 67, 0.3), 0px 1px 3px 1px rgba(60, 64, 67, 0.15);\n",
              "      fill: #174EA6;\n",
              "    }\n",
              "\n",
              "    [theme=dark] .colab-df-convert {\n",
              "      background-color: #3B4455;\n",
              "      fill: #D2E3FC;\n",
              "    }\n",
              "\n",
              "    [theme=dark] .colab-df-convert:hover {\n",
              "      background-color: #434B5C;\n",
              "      box-shadow: 0px 1px 3px 1px rgba(0, 0, 0, 0.15);\n",
              "      filter: drop-shadow(0px 1px 2px rgba(0, 0, 0, 0.3));\n",
              "      fill: #FFFFFF;\n",
              "    }\n",
              "  </style>\n",
              "\n",
              "      <script>\n",
              "        const buttonEl =\n",
              "          document.querySelector('#df-288bf3a4-591e-409b-8171-b4fcd23b3fe8 button.colab-df-convert');\n",
              "        buttonEl.style.display =\n",
              "          google.colab.kernel.accessAllowed ? 'block' : 'none';\n",
              "\n",
              "        async function convertToInteractive(key) {\n",
              "          const element = document.querySelector('#df-288bf3a4-591e-409b-8171-b4fcd23b3fe8');\n",
              "          const dataTable =\n",
              "            await google.colab.kernel.invokeFunction('convertToInteractive',\n",
              "                                                     [key], {});\n",
              "          if (!dataTable) return;\n",
              "\n",
              "          const docLinkHtml = 'Like what you see? Visit the ' +\n",
              "            '<a target=\"_blank\" href=https://colab.research.google.com/notebooks/data_table.ipynb>data table notebook</a>'\n",
              "            + ' to learn more about interactive tables.';\n",
              "          element.innerHTML = '';\n",
              "          dataTable['output_type'] = 'display_data';\n",
              "          await google.colab.output.renderOutput(dataTable, element);\n",
              "          const docLink = document.createElement('div');\n",
              "          docLink.innerHTML = docLinkHtml;\n",
              "          element.appendChild(docLink);\n",
              "        }\n",
              "      </script>\n",
              "    </div>\n",
              "  </div>\n",
              "  "
            ],
            "text/plain": [
              "       Animal  Age  Weight  Length\n",
              "0     Hamster    1       7       8\n",
              "1   Alligator    9      13       6\n",
              "2     Hamster    4       8       9\n",
              "3         Cat   13      12       1\n",
              "4       Snake   14      11       8\n",
              "5         Cat   10       8       9\n",
              "6     Hamster    2      10       5\n",
              "7         Cat    4      14       6\n",
              "8         Cat   14       9       6\n",
              "9       Snake    7      11       6\n",
              "10    Hamster   14      10       5\n",
              "11    Hamster    2      10       3\n",
              "12        Cat    1       9       4\n",
              "13  Alligator    7      14       5"
            ]
          },
          "metadata": {},
          "execution_count": 40
        }
      ]
    },
    {
      "cell_type": "markdown",
      "metadata": {
        "id": "HhGkmv6eu9PP"
      },
      "source": [
        "We turned a dictionary into a dataframe! Can you tell which parts of the dictionary became the headers and what became the values?"
      ]
    },
    {
      "cell_type": "markdown",
      "metadata": {
        "id": "1Pwq8wEQKKdA"
      },
      "source": [
        "### Pandas Methods 🐢"
      ]
    },
    {
      "cell_type": "markdown",
      "metadata": {
        "id": "4lADsQJFKKdB"
      },
      "source": [
        "Great! 👍 Pandas has many unique methods that we can use for data analysis and filtering. Let's first explore [**.unique( )**](https://pandas.pydata.org/pandas-docs/stable/reference/api/pandas.Series.unique.html). This method returns all the unique values in an given series or column:"
      ]
    },
    {
      "cell_type": "code",
      "metadata": {
        "id": "1cj0wYKYKKdB",
        "colab": {
          "base_uri": "https://localhost:8080/"
        },
        "outputId": "55aed8fa-cc3d-436b-b098-3e2a323c08b6"
      },
      "source": [
        "pd.unique(animal[\"Animal\"])"
      ],
      "execution_count": 41,
      "outputs": [
        {
          "output_type": "execute_result",
          "data": {
            "text/plain": [
              "array(['Hamster', 'Alligator', 'Cat', 'Snake'], dtype=object)"
            ]
          },
          "metadata": {},
          "execution_count": 41
        }
      ]
    },
    {
      "cell_type": "markdown",
      "metadata": {
        "id": "pb8JvqIjKKdC"
      },
      "source": [
        "Let's now look at the [**describe()**](https://pandas.pydata.org/pandas-docs/stable/reference/api/pandas.DataFrame.describe.html)  method. This method returns the summary statistics of numerical columns. To return the numerical statistics, we write:"
      ]
    },
    {
      "cell_type": "code",
      "metadata": {
        "id": "252W6c8HKKdC",
        "colab": {
          "base_uri": "https://localhost:8080/",
          "height": 300
        },
        "outputId": "8b6065d5-24f2-44ed-beb5-056d0cc22670"
      },
      "source": [
        "animal.describe(include=[np.number])"
      ],
      "execution_count": 42,
      "outputs": [
        {
          "output_type": "execute_result",
          "data": {
            "text/html": [
              "\n",
              "  <div id=\"df-63a05b48-6dcd-48fa-a018-acd0a7cd5186\">\n",
              "    <div class=\"colab-df-container\">\n",
              "      <div>\n",
              "<style scoped>\n",
              "    .dataframe tbody tr th:only-of-type {\n",
              "        vertical-align: middle;\n",
              "    }\n",
              "\n",
              "    .dataframe tbody tr th {\n",
              "        vertical-align: top;\n",
              "    }\n",
              "\n",
              "    .dataframe thead th {\n",
              "        text-align: right;\n",
              "    }\n",
              "</style>\n",
              "<table border=\"1\" class=\"dataframe\">\n",
              "  <thead>\n",
              "    <tr style=\"text-align: right;\">\n",
              "      <th></th>\n",
              "      <th>Age</th>\n",
              "      <th>Weight</th>\n",
              "      <th>Length</th>\n",
              "    </tr>\n",
              "  </thead>\n",
              "  <tbody>\n",
              "    <tr>\n",
              "      <th>count</th>\n",
              "      <td>14.000000</td>\n",
              "      <td>14.000000</td>\n",
              "      <td>14.000000</td>\n",
              "    </tr>\n",
              "    <tr>\n",
              "      <th>mean</th>\n",
              "      <td>7.285714</td>\n",
              "      <td>10.428571</td>\n",
              "      <td>5.785714</td>\n",
              "    </tr>\n",
              "    <tr>\n",
              "      <th>std</th>\n",
              "      <td>5.075258</td>\n",
              "      <td>2.208873</td>\n",
              "      <td>2.259291</td>\n",
              "    </tr>\n",
              "    <tr>\n",
              "      <th>min</th>\n",
              "      <td>1.000000</td>\n",
              "      <td>7.000000</td>\n",
              "      <td>1.000000</td>\n",
              "    </tr>\n",
              "    <tr>\n",
              "      <th>25%</th>\n",
              "      <td>2.500000</td>\n",
              "      <td>9.000000</td>\n",
              "      <td>5.000000</td>\n",
              "    </tr>\n",
              "    <tr>\n",
              "      <th>50%</th>\n",
              "      <td>7.000000</td>\n",
              "      <td>10.000000</td>\n",
              "      <td>6.000000</td>\n",
              "    </tr>\n",
              "    <tr>\n",
              "      <th>75%</th>\n",
              "      <td>12.250000</td>\n",
              "      <td>11.750000</td>\n",
              "      <td>7.500000</td>\n",
              "    </tr>\n",
              "    <tr>\n",
              "      <th>max</th>\n",
              "      <td>14.000000</td>\n",
              "      <td>14.000000</td>\n",
              "      <td>9.000000</td>\n",
              "    </tr>\n",
              "  </tbody>\n",
              "</table>\n",
              "</div>\n",
              "      <button class=\"colab-df-convert\" onclick=\"convertToInteractive('df-63a05b48-6dcd-48fa-a018-acd0a7cd5186')\"\n",
              "              title=\"Convert this dataframe to an interactive table.\"\n",
              "              style=\"display:none;\">\n",
              "        \n",
              "  <svg xmlns=\"http://www.w3.org/2000/svg\" height=\"24px\"viewBox=\"0 0 24 24\"\n",
              "       width=\"24px\">\n",
              "    <path d=\"M0 0h24v24H0V0z\" fill=\"none\"/>\n",
              "    <path d=\"M18.56 5.44l.94 2.06.94-2.06 2.06-.94-2.06-.94-.94-2.06-.94 2.06-2.06.94zm-11 1L8.5 8.5l.94-2.06 2.06-.94-2.06-.94L8.5 2.5l-.94 2.06-2.06.94zm10 10l.94 2.06.94-2.06 2.06-.94-2.06-.94-.94-2.06-.94 2.06-2.06.94z\"/><path d=\"M17.41 7.96l-1.37-1.37c-.4-.4-.92-.59-1.43-.59-.52 0-1.04.2-1.43.59L10.3 9.45l-7.72 7.72c-.78.78-.78 2.05 0 2.83L4 21.41c.39.39.9.59 1.41.59.51 0 1.02-.2 1.41-.59l7.78-7.78 2.81-2.81c.8-.78.8-2.07 0-2.86zM5.41 20L4 18.59l7.72-7.72 1.47 1.35L5.41 20z\"/>\n",
              "  </svg>\n",
              "      </button>\n",
              "      \n",
              "  <style>\n",
              "    .colab-df-container {\n",
              "      display:flex;\n",
              "      flex-wrap:wrap;\n",
              "      gap: 12px;\n",
              "    }\n",
              "\n",
              "    .colab-df-convert {\n",
              "      background-color: #E8F0FE;\n",
              "      border: none;\n",
              "      border-radius: 50%;\n",
              "      cursor: pointer;\n",
              "      display: none;\n",
              "      fill: #1967D2;\n",
              "      height: 32px;\n",
              "      padding: 0 0 0 0;\n",
              "      width: 32px;\n",
              "    }\n",
              "\n",
              "    .colab-df-convert:hover {\n",
              "      background-color: #E2EBFA;\n",
              "      box-shadow: 0px 1px 2px rgba(60, 64, 67, 0.3), 0px 1px 3px 1px rgba(60, 64, 67, 0.15);\n",
              "      fill: #174EA6;\n",
              "    }\n",
              "\n",
              "    [theme=dark] .colab-df-convert {\n",
              "      background-color: #3B4455;\n",
              "      fill: #D2E3FC;\n",
              "    }\n",
              "\n",
              "    [theme=dark] .colab-df-convert:hover {\n",
              "      background-color: #434B5C;\n",
              "      box-shadow: 0px 1px 3px 1px rgba(0, 0, 0, 0.15);\n",
              "      filter: drop-shadow(0px 1px 2px rgba(0, 0, 0, 0.3));\n",
              "      fill: #FFFFFF;\n",
              "    }\n",
              "  </style>\n",
              "\n",
              "      <script>\n",
              "        const buttonEl =\n",
              "          document.querySelector('#df-63a05b48-6dcd-48fa-a018-acd0a7cd5186 button.colab-df-convert');\n",
              "        buttonEl.style.display =\n",
              "          google.colab.kernel.accessAllowed ? 'block' : 'none';\n",
              "\n",
              "        async function convertToInteractive(key) {\n",
              "          const element = document.querySelector('#df-63a05b48-6dcd-48fa-a018-acd0a7cd5186');\n",
              "          const dataTable =\n",
              "            await google.colab.kernel.invokeFunction('convertToInteractive',\n",
              "                                                     [key], {});\n",
              "          if (!dataTable) return;\n",
              "\n",
              "          const docLinkHtml = 'Like what you see? Visit the ' +\n",
              "            '<a target=\"_blank\" href=https://colab.research.google.com/notebooks/data_table.ipynb>data table notebook</a>'\n",
              "            + ' to learn more about interactive tables.';\n",
              "          element.innerHTML = '';\n",
              "          dataTable['output_type'] = 'display_data';\n",
              "          await google.colab.output.renderOutput(dataTable, element);\n",
              "          const docLink = document.createElement('div');\n",
              "          docLink.innerHTML = docLinkHtml;\n",
              "          element.appendChild(docLink);\n",
              "        }\n",
              "      </script>\n",
              "    </div>\n",
              "  </div>\n",
              "  "
            ],
            "text/plain": [
              "             Age     Weight     Length\n",
              "count  14.000000  14.000000  14.000000\n",
              "mean    7.285714  10.428571   5.785714\n",
              "std     5.075258   2.208873   2.259291\n",
              "min     1.000000   7.000000   1.000000\n",
              "25%     2.500000   9.000000   5.000000\n",
              "50%     7.000000  10.000000   6.000000\n",
              "75%    12.250000  11.750000   7.500000\n",
              "max    14.000000  14.000000   9.000000"
            ]
          },
          "metadata": {},
          "execution_count": 42
        }
      ]
    },
    {
      "cell_type": "markdown",
      "metadata": {
        "id": "BsKjmT16KKdD"
      },
      "source": [
        "Super simple! 🥳  **np.number** simply returns the numerical columns and excludes other data types. Now, let's attempt to filter columns in Pandas. <br> \n",
        "To filter in Pandas, we simply use brackets. Let's try one example:"
      ]
    },
    {
      "cell_type": "code",
      "metadata": {
        "id": "BPvwh15bKKdD",
        "colab": {
          "base_uri": "https://localhost:8080/",
          "height": 237
        },
        "outputId": "7eabf89b-cfd9-4205-9fe4-0b821b528a94"
      },
      "source": [
        "animal[animal[\"Weight\"] > 10]"
      ],
      "execution_count": 43,
      "outputs": [
        {
          "output_type": "execute_result",
          "data": {
            "text/html": [
              "\n",
              "  <div id=\"df-25b31eff-19c6-40ec-ac5b-c7e700b1a717\">\n",
              "    <div class=\"colab-df-container\">\n",
              "      <div>\n",
              "<style scoped>\n",
              "    .dataframe tbody tr th:only-of-type {\n",
              "        vertical-align: middle;\n",
              "    }\n",
              "\n",
              "    .dataframe tbody tr th {\n",
              "        vertical-align: top;\n",
              "    }\n",
              "\n",
              "    .dataframe thead th {\n",
              "        text-align: right;\n",
              "    }\n",
              "</style>\n",
              "<table border=\"1\" class=\"dataframe\">\n",
              "  <thead>\n",
              "    <tr style=\"text-align: right;\">\n",
              "      <th></th>\n",
              "      <th>Animal</th>\n",
              "      <th>Age</th>\n",
              "      <th>Weight</th>\n",
              "      <th>Length</th>\n",
              "    </tr>\n",
              "  </thead>\n",
              "  <tbody>\n",
              "    <tr>\n",
              "      <th>1</th>\n",
              "      <td>Alligator</td>\n",
              "      <td>9</td>\n",
              "      <td>13</td>\n",
              "      <td>6</td>\n",
              "    </tr>\n",
              "    <tr>\n",
              "      <th>3</th>\n",
              "      <td>Cat</td>\n",
              "      <td>13</td>\n",
              "      <td>12</td>\n",
              "      <td>1</td>\n",
              "    </tr>\n",
              "    <tr>\n",
              "      <th>4</th>\n",
              "      <td>Snake</td>\n",
              "      <td>14</td>\n",
              "      <td>11</td>\n",
              "      <td>8</td>\n",
              "    </tr>\n",
              "    <tr>\n",
              "      <th>7</th>\n",
              "      <td>Cat</td>\n",
              "      <td>4</td>\n",
              "      <td>14</td>\n",
              "      <td>6</td>\n",
              "    </tr>\n",
              "    <tr>\n",
              "      <th>9</th>\n",
              "      <td>Snake</td>\n",
              "      <td>7</td>\n",
              "      <td>11</td>\n",
              "      <td>6</td>\n",
              "    </tr>\n",
              "    <tr>\n",
              "      <th>13</th>\n",
              "      <td>Alligator</td>\n",
              "      <td>7</td>\n",
              "      <td>14</td>\n",
              "      <td>5</td>\n",
              "    </tr>\n",
              "  </tbody>\n",
              "</table>\n",
              "</div>\n",
              "      <button class=\"colab-df-convert\" onclick=\"convertToInteractive('df-25b31eff-19c6-40ec-ac5b-c7e700b1a717')\"\n",
              "              title=\"Convert this dataframe to an interactive table.\"\n",
              "              style=\"display:none;\">\n",
              "        \n",
              "  <svg xmlns=\"http://www.w3.org/2000/svg\" height=\"24px\"viewBox=\"0 0 24 24\"\n",
              "       width=\"24px\">\n",
              "    <path d=\"M0 0h24v24H0V0z\" fill=\"none\"/>\n",
              "    <path d=\"M18.56 5.44l.94 2.06.94-2.06 2.06-.94-2.06-.94-.94-2.06-.94 2.06-2.06.94zm-11 1L8.5 8.5l.94-2.06 2.06-.94-2.06-.94L8.5 2.5l-.94 2.06-2.06.94zm10 10l.94 2.06.94-2.06 2.06-.94-2.06-.94-.94-2.06-.94 2.06-2.06.94z\"/><path d=\"M17.41 7.96l-1.37-1.37c-.4-.4-.92-.59-1.43-.59-.52 0-1.04.2-1.43.59L10.3 9.45l-7.72 7.72c-.78.78-.78 2.05 0 2.83L4 21.41c.39.39.9.59 1.41.59.51 0 1.02-.2 1.41-.59l7.78-7.78 2.81-2.81c.8-.78.8-2.07 0-2.86zM5.41 20L4 18.59l7.72-7.72 1.47 1.35L5.41 20z\"/>\n",
              "  </svg>\n",
              "      </button>\n",
              "      \n",
              "  <style>\n",
              "    .colab-df-container {\n",
              "      display:flex;\n",
              "      flex-wrap:wrap;\n",
              "      gap: 12px;\n",
              "    }\n",
              "\n",
              "    .colab-df-convert {\n",
              "      background-color: #E8F0FE;\n",
              "      border: none;\n",
              "      border-radius: 50%;\n",
              "      cursor: pointer;\n",
              "      display: none;\n",
              "      fill: #1967D2;\n",
              "      height: 32px;\n",
              "      padding: 0 0 0 0;\n",
              "      width: 32px;\n",
              "    }\n",
              "\n",
              "    .colab-df-convert:hover {\n",
              "      background-color: #E2EBFA;\n",
              "      box-shadow: 0px 1px 2px rgba(60, 64, 67, 0.3), 0px 1px 3px 1px rgba(60, 64, 67, 0.15);\n",
              "      fill: #174EA6;\n",
              "    }\n",
              "\n",
              "    [theme=dark] .colab-df-convert {\n",
              "      background-color: #3B4455;\n",
              "      fill: #D2E3FC;\n",
              "    }\n",
              "\n",
              "    [theme=dark] .colab-df-convert:hover {\n",
              "      background-color: #434B5C;\n",
              "      box-shadow: 0px 1px 3px 1px rgba(0, 0, 0, 0.15);\n",
              "      filter: drop-shadow(0px 1px 2px rgba(0, 0, 0, 0.3));\n",
              "      fill: #FFFFFF;\n",
              "    }\n",
              "  </style>\n",
              "\n",
              "      <script>\n",
              "        const buttonEl =\n",
              "          document.querySelector('#df-25b31eff-19c6-40ec-ac5b-c7e700b1a717 button.colab-df-convert');\n",
              "        buttonEl.style.display =\n",
              "          google.colab.kernel.accessAllowed ? 'block' : 'none';\n",
              "\n",
              "        async function convertToInteractive(key) {\n",
              "          const element = document.querySelector('#df-25b31eff-19c6-40ec-ac5b-c7e700b1a717');\n",
              "          const dataTable =\n",
              "            await google.colab.kernel.invokeFunction('convertToInteractive',\n",
              "                                                     [key], {});\n",
              "          if (!dataTable) return;\n",
              "\n",
              "          const docLinkHtml = 'Like what you see? Visit the ' +\n",
              "            '<a target=\"_blank\" href=https://colab.research.google.com/notebooks/data_table.ipynb>data table notebook</a>'\n",
              "            + ' to learn more about interactive tables.';\n",
              "          element.innerHTML = '';\n",
              "          dataTable['output_type'] = 'display_data';\n",
              "          await google.colab.output.renderOutput(dataTable, element);\n",
              "          const docLink = document.createElement('div');\n",
              "          docLink.innerHTML = docLinkHtml;\n",
              "          element.appendChild(docLink);\n",
              "        }\n",
              "      </script>\n",
              "    </div>\n",
              "  </div>\n",
              "  "
            ],
            "text/plain": [
              "       Animal  Age  Weight  Length\n",
              "1   Alligator    9      13       6\n",
              "3         Cat   13      12       1\n",
              "4       Snake   14      11       8\n",
              "7         Cat    4      14       6\n",
              "9       Snake    7      11       6\n",
              "13  Alligator    7      14       5"
            ]
          },
          "metadata": {},
          "execution_count": 43
        }
      ]
    },
    {
      "cell_type": "markdown",
      "metadata": {
        "id": "Pey_gUxLKKdF"
      },
      "source": [
        "🐍 Python is wonderful because it's so intuitive. We pointed to **animal**, and then to the **\"Weight\"** column. At this point, we filtered for numbers greater than 10\n",
        ". "
      ]
    },
    {
      "cell_type": "markdown",
      "metadata": {
        "id": "CgYln5WbKKdF"
      },
      "source": [
        "What if we want to find rows between a certain subset? We can use the '&' operator: "
      ]
    },
    {
      "cell_type": "code",
      "metadata": {
        "id": "dVlSA9sZKKdF",
        "colab": {
          "base_uri": "https://localhost:8080/",
          "height": 269
        },
        "outputId": "bd2b90af-e7f0-4081-fac5-567b9eb55471"
      },
      "source": [
        "animal[(animal[\"Length\"] > 4) & (animal[\"Length\"] < 8)] "
      ],
      "execution_count": 44,
      "outputs": [
        {
          "output_type": "execute_result",
          "data": {
            "text/html": [
              "\n",
              "  <div id=\"df-5837d439-88a5-44ba-b693-eded7b9a0bfe\">\n",
              "    <div class=\"colab-df-container\">\n",
              "      <div>\n",
              "<style scoped>\n",
              "    .dataframe tbody tr th:only-of-type {\n",
              "        vertical-align: middle;\n",
              "    }\n",
              "\n",
              "    .dataframe tbody tr th {\n",
              "        vertical-align: top;\n",
              "    }\n",
              "\n",
              "    .dataframe thead th {\n",
              "        text-align: right;\n",
              "    }\n",
              "</style>\n",
              "<table border=\"1\" class=\"dataframe\">\n",
              "  <thead>\n",
              "    <tr style=\"text-align: right;\">\n",
              "      <th></th>\n",
              "      <th>Animal</th>\n",
              "      <th>Age</th>\n",
              "      <th>Weight</th>\n",
              "      <th>Length</th>\n",
              "    </tr>\n",
              "  </thead>\n",
              "  <tbody>\n",
              "    <tr>\n",
              "      <th>1</th>\n",
              "      <td>Alligator</td>\n",
              "      <td>9</td>\n",
              "      <td>13</td>\n",
              "      <td>6</td>\n",
              "    </tr>\n",
              "    <tr>\n",
              "      <th>6</th>\n",
              "      <td>Hamster</td>\n",
              "      <td>2</td>\n",
              "      <td>10</td>\n",
              "      <td>5</td>\n",
              "    </tr>\n",
              "    <tr>\n",
              "      <th>7</th>\n",
              "      <td>Cat</td>\n",
              "      <td>4</td>\n",
              "      <td>14</td>\n",
              "      <td>6</td>\n",
              "    </tr>\n",
              "    <tr>\n",
              "      <th>8</th>\n",
              "      <td>Cat</td>\n",
              "      <td>14</td>\n",
              "      <td>9</td>\n",
              "      <td>6</td>\n",
              "    </tr>\n",
              "    <tr>\n",
              "      <th>9</th>\n",
              "      <td>Snake</td>\n",
              "      <td>7</td>\n",
              "      <td>11</td>\n",
              "      <td>6</td>\n",
              "    </tr>\n",
              "    <tr>\n",
              "      <th>10</th>\n",
              "      <td>Hamster</td>\n",
              "      <td>14</td>\n",
              "      <td>10</td>\n",
              "      <td>5</td>\n",
              "    </tr>\n",
              "    <tr>\n",
              "      <th>13</th>\n",
              "      <td>Alligator</td>\n",
              "      <td>7</td>\n",
              "      <td>14</td>\n",
              "      <td>5</td>\n",
              "    </tr>\n",
              "  </tbody>\n",
              "</table>\n",
              "</div>\n",
              "      <button class=\"colab-df-convert\" onclick=\"convertToInteractive('df-5837d439-88a5-44ba-b693-eded7b9a0bfe')\"\n",
              "              title=\"Convert this dataframe to an interactive table.\"\n",
              "              style=\"display:none;\">\n",
              "        \n",
              "  <svg xmlns=\"http://www.w3.org/2000/svg\" height=\"24px\"viewBox=\"0 0 24 24\"\n",
              "       width=\"24px\">\n",
              "    <path d=\"M0 0h24v24H0V0z\" fill=\"none\"/>\n",
              "    <path d=\"M18.56 5.44l.94 2.06.94-2.06 2.06-.94-2.06-.94-.94-2.06-.94 2.06-2.06.94zm-11 1L8.5 8.5l.94-2.06 2.06-.94-2.06-.94L8.5 2.5l-.94 2.06-2.06.94zm10 10l.94 2.06.94-2.06 2.06-.94-2.06-.94-.94-2.06-.94 2.06-2.06.94z\"/><path d=\"M17.41 7.96l-1.37-1.37c-.4-.4-.92-.59-1.43-.59-.52 0-1.04.2-1.43.59L10.3 9.45l-7.72 7.72c-.78.78-.78 2.05 0 2.83L4 21.41c.39.39.9.59 1.41.59.51 0 1.02-.2 1.41-.59l7.78-7.78 2.81-2.81c.8-.78.8-2.07 0-2.86zM5.41 20L4 18.59l7.72-7.72 1.47 1.35L5.41 20z\"/>\n",
              "  </svg>\n",
              "      </button>\n",
              "      \n",
              "  <style>\n",
              "    .colab-df-container {\n",
              "      display:flex;\n",
              "      flex-wrap:wrap;\n",
              "      gap: 12px;\n",
              "    }\n",
              "\n",
              "    .colab-df-convert {\n",
              "      background-color: #E8F0FE;\n",
              "      border: none;\n",
              "      border-radius: 50%;\n",
              "      cursor: pointer;\n",
              "      display: none;\n",
              "      fill: #1967D2;\n",
              "      height: 32px;\n",
              "      padding: 0 0 0 0;\n",
              "      width: 32px;\n",
              "    }\n",
              "\n",
              "    .colab-df-convert:hover {\n",
              "      background-color: #E2EBFA;\n",
              "      box-shadow: 0px 1px 2px rgba(60, 64, 67, 0.3), 0px 1px 3px 1px rgba(60, 64, 67, 0.15);\n",
              "      fill: #174EA6;\n",
              "    }\n",
              "\n",
              "    [theme=dark] .colab-df-convert {\n",
              "      background-color: #3B4455;\n",
              "      fill: #D2E3FC;\n",
              "    }\n",
              "\n",
              "    [theme=dark] .colab-df-convert:hover {\n",
              "      background-color: #434B5C;\n",
              "      box-shadow: 0px 1px 3px 1px rgba(0, 0, 0, 0.15);\n",
              "      filter: drop-shadow(0px 1px 2px rgba(0, 0, 0, 0.3));\n",
              "      fill: #FFFFFF;\n",
              "    }\n",
              "  </style>\n",
              "\n",
              "      <script>\n",
              "        const buttonEl =\n",
              "          document.querySelector('#df-5837d439-88a5-44ba-b693-eded7b9a0bfe button.colab-df-convert');\n",
              "        buttonEl.style.display =\n",
              "          google.colab.kernel.accessAllowed ? 'block' : 'none';\n",
              "\n",
              "        async function convertToInteractive(key) {\n",
              "          const element = document.querySelector('#df-5837d439-88a5-44ba-b693-eded7b9a0bfe');\n",
              "          const dataTable =\n",
              "            await google.colab.kernel.invokeFunction('convertToInteractive',\n",
              "                                                     [key], {});\n",
              "          if (!dataTable) return;\n",
              "\n",
              "          const docLinkHtml = 'Like what you see? Visit the ' +\n",
              "            '<a target=\"_blank\" href=https://colab.research.google.com/notebooks/data_table.ipynb>data table notebook</a>'\n",
              "            + ' to learn more about interactive tables.';\n",
              "          element.innerHTML = '';\n",
              "          dataTable['output_type'] = 'display_data';\n",
              "          await google.colab.output.renderOutput(dataTable, element);\n",
              "          const docLink = document.createElement('div');\n",
              "          docLink.innerHTML = docLinkHtml;\n",
              "          element.appendChild(docLink);\n",
              "        }\n",
              "      </script>\n",
              "    </div>\n",
              "  </div>\n",
              "  "
            ],
            "text/plain": [
              "       Animal  Age  Weight  Length\n",
              "1   Alligator    9      13       6\n",
              "6     Hamster    2      10       5\n",
              "7         Cat    4      14       6\n",
              "8         Cat   14       9       6\n",
              "9       Snake    7      11       6\n",
              "10    Hamster   14      10       5\n",
              "13  Alligator    7      14       5"
            ]
          },
          "metadata": {},
          "execution_count": 44
        }
      ]
    },
    {
      "cell_type": "markdown",
      "metadata": {
        "id": "x6wsJ_pyKKdG"
      },
      "source": [
        "We are almost finished our review of Pandas DataFrames. 🤠 Let's now turn our attention to [**.groupby()**](https://pandas.pydata.org/pandas-docs/stable/reference/api/pandas.DataFrame.groupby.html). The Groupby method involves grouping data around a particular category and applying analysis. This would be useful if you were interested in answering the question, \"What's the average weight of all the snakes, cats, hamsters, and alligators?\" To find the average weight of each category of animal, we'll group the animals by animal type and then apply the mean function. We could apply other functions too. We could apply \"sum\" to add up all the weights, \"min\" to find the lowest, \"max\" to get the highest, or \"count\" just to get a count of each animal type:"
      ]
    },
    {
      "cell_type": "code",
      "metadata": {
        "id": "g_QWyOf0KKdJ",
        "colab": {
          "base_uri": "https://localhost:8080/"
        },
        "outputId": "9dbfe434-054f-4878-d724-3c6705021a39"
      },
      "source": [
        "animal_groups = animal.groupby(\"Animal\")\n",
        "animal_groups['Weight'].mean()"
      ],
      "execution_count": 45,
      "outputs": [
        {
          "output_type": "execute_result",
          "data": {
            "text/plain": [
              "Animal\n",
              "Alligator    13.5\n",
              "Cat          10.4\n",
              "Hamster       9.0\n",
              "Snake        11.0\n",
              "Name: Weight, dtype: float64"
            ]
          },
          "metadata": {},
          "execution_count": 45
        }
      ]
    },
    {
      "cell_type": "markdown",
      "metadata": {
        "id": "4KhditFY4MKJ"
      },
      "source": [
        "## Exercise 3: DataFrame 🏃\n",
        "- Open the [UN Dataset](http://data.un.org/_Docs/SYB/PDFs/SYB60_T03_Population%20Growth,%20Fertility%20and%20Mortality%20Indicators.pdf) \n",
        "- Create a DataFrame using **Northern Africa**, **Sub-Saharan Africa**, **Eastern Asia** and **Western Europe**. For these areas, create columns for *Population Rate of Increase*, *Fertility Rate*, and *Infant Mortality* for the year 2005.\n",
        "- Using filtering, sort for the countries that have infant mortality between 30 and 50. \n",
        "- Find the max for Infant Mortality for the four areas"
      ]
    },
    {
      "cell_type": "code",
      "metadata": {
        "id": "l3OMB15zxBY_"
      },
      "source": [
        "UN_Data = { \n",
        "            'Countries': ['Northern Africa', 'Sub-Saharan Africa', 'Eastern Asia', 'Western Europe'],\n",
        "            'Population Rate of Increase': [1.7, 2.7, 0.6, 0.3],\n",
        "            'Fertility Rate': [3.2, 5.6, 1.5, 1.6],\n",
        "            'Infant Mortality': [39.3, 87.3, 23.2, 4.3]\n",
        "    \n",
        "}"
      ],
      "execution_count": 46,
      "outputs": []
    },
    {
      "cell_type": "code",
      "metadata": {
        "id": "b0MAN8Sv1s3e",
        "colab": {
          "base_uri": "https://localhost:8080/",
          "height": 175
        },
        "outputId": "1a61ea65-13eb-461a-f67d-5f536978fb35"
      },
      "source": [
        "UNdata = pd.DataFrame(UN_Data)\n",
        "UNdata"
      ],
      "execution_count": 47,
      "outputs": [
        {
          "output_type": "execute_result",
          "data": {
            "text/html": [
              "\n",
              "  <div id=\"df-3f12144b-2e01-44ba-9629-4c0a4c20d43c\">\n",
              "    <div class=\"colab-df-container\">\n",
              "      <div>\n",
              "<style scoped>\n",
              "    .dataframe tbody tr th:only-of-type {\n",
              "        vertical-align: middle;\n",
              "    }\n",
              "\n",
              "    .dataframe tbody tr th {\n",
              "        vertical-align: top;\n",
              "    }\n",
              "\n",
              "    .dataframe thead th {\n",
              "        text-align: right;\n",
              "    }\n",
              "</style>\n",
              "<table border=\"1\" class=\"dataframe\">\n",
              "  <thead>\n",
              "    <tr style=\"text-align: right;\">\n",
              "      <th></th>\n",
              "      <th>Countries</th>\n",
              "      <th>Population Rate of Increase</th>\n",
              "      <th>Fertility Rate</th>\n",
              "      <th>Infant Mortality</th>\n",
              "    </tr>\n",
              "  </thead>\n",
              "  <tbody>\n",
              "    <tr>\n",
              "      <th>0</th>\n",
              "      <td>Northern Africa</td>\n",
              "      <td>1.7</td>\n",
              "      <td>3.2</td>\n",
              "      <td>39.3</td>\n",
              "    </tr>\n",
              "    <tr>\n",
              "      <th>1</th>\n",
              "      <td>Sub-Saharan Africa</td>\n",
              "      <td>2.7</td>\n",
              "      <td>5.6</td>\n",
              "      <td>87.3</td>\n",
              "    </tr>\n",
              "    <tr>\n",
              "      <th>2</th>\n",
              "      <td>Eastern Asia</td>\n",
              "      <td>0.6</td>\n",
              "      <td>1.5</td>\n",
              "      <td>23.2</td>\n",
              "    </tr>\n",
              "    <tr>\n",
              "      <th>3</th>\n",
              "      <td>Western Europe</td>\n",
              "      <td>0.3</td>\n",
              "      <td>1.6</td>\n",
              "      <td>4.3</td>\n",
              "    </tr>\n",
              "  </tbody>\n",
              "</table>\n",
              "</div>\n",
              "      <button class=\"colab-df-convert\" onclick=\"convertToInteractive('df-3f12144b-2e01-44ba-9629-4c0a4c20d43c')\"\n",
              "              title=\"Convert this dataframe to an interactive table.\"\n",
              "              style=\"display:none;\">\n",
              "        \n",
              "  <svg xmlns=\"http://www.w3.org/2000/svg\" height=\"24px\"viewBox=\"0 0 24 24\"\n",
              "       width=\"24px\">\n",
              "    <path d=\"M0 0h24v24H0V0z\" fill=\"none\"/>\n",
              "    <path d=\"M18.56 5.44l.94 2.06.94-2.06 2.06-.94-2.06-.94-.94-2.06-.94 2.06-2.06.94zm-11 1L8.5 8.5l.94-2.06 2.06-.94-2.06-.94L8.5 2.5l-.94 2.06-2.06.94zm10 10l.94 2.06.94-2.06 2.06-.94-2.06-.94-.94-2.06-.94 2.06-2.06.94z\"/><path d=\"M17.41 7.96l-1.37-1.37c-.4-.4-.92-.59-1.43-.59-.52 0-1.04.2-1.43.59L10.3 9.45l-7.72 7.72c-.78.78-.78 2.05 0 2.83L4 21.41c.39.39.9.59 1.41.59.51 0 1.02-.2 1.41-.59l7.78-7.78 2.81-2.81c.8-.78.8-2.07 0-2.86zM5.41 20L4 18.59l7.72-7.72 1.47 1.35L5.41 20z\"/>\n",
              "  </svg>\n",
              "      </button>\n",
              "      \n",
              "  <style>\n",
              "    .colab-df-container {\n",
              "      display:flex;\n",
              "      flex-wrap:wrap;\n",
              "      gap: 12px;\n",
              "    }\n",
              "\n",
              "    .colab-df-convert {\n",
              "      background-color: #E8F0FE;\n",
              "      border: none;\n",
              "      border-radius: 50%;\n",
              "      cursor: pointer;\n",
              "      display: none;\n",
              "      fill: #1967D2;\n",
              "      height: 32px;\n",
              "      padding: 0 0 0 0;\n",
              "      width: 32px;\n",
              "    }\n",
              "\n",
              "    .colab-df-convert:hover {\n",
              "      background-color: #E2EBFA;\n",
              "      box-shadow: 0px 1px 2px rgba(60, 64, 67, 0.3), 0px 1px 3px 1px rgba(60, 64, 67, 0.15);\n",
              "      fill: #174EA6;\n",
              "    }\n",
              "\n",
              "    [theme=dark] .colab-df-convert {\n",
              "      background-color: #3B4455;\n",
              "      fill: #D2E3FC;\n",
              "    }\n",
              "\n",
              "    [theme=dark] .colab-df-convert:hover {\n",
              "      background-color: #434B5C;\n",
              "      box-shadow: 0px 1px 3px 1px rgba(0, 0, 0, 0.15);\n",
              "      filter: drop-shadow(0px 1px 2px rgba(0, 0, 0, 0.3));\n",
              "      fill: #FFFFFF;\n",
              "    }\n",
              "  </style>\n",
              "\n",
              "      <script>\n",
              "        const buttonEl =\n",
              "          document.querySelector('#df-3f12144b-2e01-44ba-9629-4c0a4c20d43c button.colab-df-convert');\n",
              "        buttonEl.style.display =\n",
              "          google.colab.kernel.accessAllowed ? 'block' : 'none';\n",
              "\n",
              "        async function convertToInteractive(key) {\n",
              "          const element = document.querySelector('#df-3f12144b-2e01-44ba-9629-4c0a4c20d43c');\n",
              "          const dataTable =\n",
              "            await google.colab.kernel.invokeFunction('convertToInteractive',\n",
              "                                                     [key], {});\n",
              "          if (!dataTable) return;\n",
              "\n",
              "          const docLinkHtml = 'Like what you see? Visit the ' +\n",
              "            '<a target=\"_blank\" href=https://colab.research.google.com/notebooks/data_table.ipynb>data table notebook</a>'\n",
              "            + ' to learn more about interactive tables.';\n",
              "          element.innerHTML = '';\n",
              "          dataTable['output_type'] = 'display_data';\n",
              "          await google.colab.output.renderOutput(dataTable, element);\n",
              "          const docLink = document.createElement('div');\n",
              "          docLink.innerHTML = docLinkHtml;\n",
              "          element.appendChild(docLink);\n",
              "        }\n",
              "      </script>\n",
              "    </div>\n",
              "  </div>\n",
              "  "
            ],
            "text/plain": [
              "            Countries  ...  Infant Mortality\n",
              "0     Northern Africa  ...              39.3\n",
              "1  Sub-Saharan Africa  ...              87.3\n",
              "2        Eastern Asia  ...              23.2\n",
              "3      Western Europe  ...               4.3\n",
              "\n",
              "[4 rows x 4 columns]"
            ]
          },
          "metadata": {},
          "execution_count": 47
        }
      ]
    },
    {
      "cell_type": "code",
      "metadata": {
        "id": "bhdjo8rt1s_B",
        "colab": {
          "base_uri": "https://localhost:8080/",
          "height": 81
        },
        "outputId": "2de917a6-3808-43ee-df9a-9883eb4bab9a"
      },
      "source": [
        "UNdata[(UNdata[\"Infant Mortality\"] > 30) & (UNdata[\"Infant Mortality\"] < 50)] "
      ],
      "execution_count": 48,
      "outputs": [
        {
          "output_type": "execute_result",
          "data": {
            "text/html": [
              "\n",
              "  <div id=\"df-f55750b3-75d5-49f9-885f-bc733919c517\">\n",
              "    <div class=\"colab-df-container\">\n",
              "      <div>\n",
              "<style scoped>\n",
              "    .dataframe tbody tr th:only-of-type {\n",
              "        vertical-align: middle;\n",
              "    }\n",
              "\n",
              "    .dataframe tbody tr th {\n",
              "        vertical-align: top;\n",
              "    }\n",
              "\n",
              "    .dataframe thead th {\n",
              "        text-align: right;\n",
              "    }\n",
              "</style>\n",
              "<table border=\"1\" class=\"dataframe\">\n",
              "  <thead>\n",
              "    <tr style=\"text-align: right;\">\n",
              "      <th></th>\n",
              "      <th>Countries</th>\n",
              "      <th>Population Rate of Increase</th>\n",
              "      <th>Fertility Rate</th>\n",
              "      <th>Infant Mortality</th>\n",
              "    </tr>\n",
              "  </thead>\n",
              "  <tbody>\n",
              "    <tr>\n",
              "      <th>0</th>\n",
              "      <td>Northern Africa</td>\n",
              "      <td>1.7</td>\n",
              "      <td>3.2</td>\n",
              "      <td>39.3</td>\n",
              "    </tr>\n",
              "  </tbody>\n",
              "</table>\n",
              "</div>\n",
              "      <button class=\"colab-df-convert\" onclick=\"convertToInteractive('df-f55750b3-75d5-49f9-885f-bc733919c517')\"\n",
              "              title=\"Convert this dataframe to an interactive table.\"\n",
              "              style=\"display:none;\">\n",
              "        \n",
              "  <svg xmlns=\"http://www.w3.org/2000/svg\" height=\"24px\"viewBox=\"0 0 24 24\"\n",
              "       width=\"24px\">\n",
              "    <path d=\"M0 0h24v24H0V0z\" fill=\"none\"/>\n",
              "    <path d=\"M18.56 5.44l.94 2.06.94-2.06 2.06-.94-2.06-.94-.94-2.06-.94 2.06-2.06.94zm-11 1L8.5 8.5l.94-2.06 2.06-.94-2.06-.94L8.5 2.5l-.94 2.06-2.06.94zm10 10l.94 2.06.94-2.06 2.06-.94-2.06-.94-.94-2.06-.94 2.06-2.06.94z\"/><path d=\"M17.41 7.96l-1.37-1.37c-.4-.4-.92-.59-1.43-.59-.52 0-1.04.2-1.43.59L10.3 9.45l-7.72 7.72c-.78.78-.78 2.05 0 2.83L4 21.41c.39.39.9.59 1.41.59.51 0 1.02-.2 1.41-.59l7.78-7.78 2.81-2.81c.8-.78.8-2.07 0-2.86zM5.41 20L4 18.59l7.72-7.72 1.47 1.35L5.41 20z\"/>\n",
              "  </svg>\n",
              "      </button>\n",
              "      \n",
              "  <style>\n",
              "    .colab-df-container {\n",
              "      display:flex;\n",
              "      flex-wrap:wrap;\n",
              "      gap: 12px;\n",
              "    }\n",
              "\n",
              "    .colab-df-convert {\n",
              "      background-color: #E8F0FE;\n",
              "      border: none;\n",
              "      border-radius: 50%;\n",
              "      cursor: pointer;\n",
              "      display: none;\n",
              "      fill: #1967D2;\n",
              "      height: 32px;\n",
              "      padding: 0 0 0 0;\n",
              "      width: 32px;\n",
              "    }\n",
              "\n",
              "    .colab-df-convert:hover {\n",
              "      background-color: #E2EBFA;\n",
              "      box-shadow: 0px 1px 2px rgba(60, 64, 67, 0.3), 0px 1px 3px 1px rgba(60, 64, 67, 0.15);\n",
              "      fill: #174EA6;\n",
              "    }\n",
              "\n",
              "    [theme=dark] .colab-df-convert {\n",
              "      background-color: #3B4455;\n",
              "      fill: #D2E3FC;\n",
              "    }\n",
              "\n",
              "    [theme=dark] .colab-df-convert:hover {\n",
              "      background-color: #434B5C;\n",
              "      box-shadow: 0px 1px 3px 1px rgba(0, 0, 0, 0.15);\n",
              "      filter: drop-shadow(0px 1px 2px rgba(0, 0, 0, 0.3));\n",
              "      fill: #FFFFFF;\n",
              "    }\n",
              "  </style>\n",
              "\n",
              "      <script>\n",
              "        const buttonEl =\n",
              "          document.querySelector('#df-f55750b3-75d5-49f9-885f-bc733919c517 button.colab-df-convert');\n",
              "        buttonEl.style.display =\n",
              "          google.colab.kernel.accessAllowed ? 'block' : 'none';\n",
              "\n",
              "        async function convertToInteractive(key) {\n",
              "          const element = document.querySelector('#df-f55750b3-75d5-49f9-885f-bc733919c517');\n",
              "          const dataTable =\n",
              "            await google.colab.kernel.invokeFunction('convertToInteractive',\n",
              "                                                     [key], {});\n",
              "          if (!dataTable) return;\n",
              "\n",
              "          const docLinkHtml = 'Like what you see? Visit the ' +\n",
              "            '<a target=\"_blank\" href=https://colab.research.google.com/notebooks/data_table.ipynb>data table notebook</a>'\n",
              "            + ' to learn more about interactive tables.';\n",
              "          element.innerHTML = '';\n",
              "          dataTable['output_type'] = 'display_data';\n",
              "          await google.colab.output.renderOutput(dataTable, element);\n",
              "          const docLink = document.createElement('div');\n",
              "          docLink.innerHTML = docLinkHtml;\n",
              "          element.appendChild(docLink);\n",
              "        }\n",
              "      </script>\n",
              "    </div>\n",
              "  </div>\n",
              "  "
            ],
            "text/plain": [
              "         Countries  ...  Infant Mortality\n",
              "0  Northern Africa  ...              39.3\n",
              "\n",
              "[1 rows x 4 columns]"
            ]
          },
          "metadata": {},
          "execution_count": 48
        }
      ]
    },
    {
      "cell_type": "code",
      "metadata": {
        "id": "qNXPKrO31tJc",
        "colab": {
          "base_uri": "https://localhost:8080/"
        },
        "outputId": "8c149998-3581-4f36-f4f0-55fc398c5b7b"
      },
      "source": [
        "UNdata[\"Infant Mortality\"].max()"
      ],
      "execution_count": 49,
      "outputs": [
        {
          "output_type": "execute_result",
          "data": {
            "text/plain": [
              "87.3"
            ]
          },
          "metadata": {},
          "execution_count": 49
        }
      ]
    },
    {
      "cell_type": "markdown",
      "metadata": {
        "id": "8ni5XbrPKKdM"
      },
      "source": [
        "With that, we've completed our review of the Python library Pandas. If you have any lingering questions, do ask! You can find more on Pandas on their [official website](pandas.pydata.org)."
      ]
    },
    {
      "cell_type": "markdown",
      "metadata": {
        "id": "N6zknks8KKdM"
      },
      "source": [
        "# Matplotlib: A (Tiny) Introduction 📈"
      ]
    },
    {
      "cell_type": "markdown",
      "metadata": {
        "id": "Ncf6gLKkKKdM"
      },
      "source": [
        "Mathplotlib is a Python 2D plotting library which produces  plots, histograms, power spectra, bar charts, errorcharts, scatterplots, etc. with just a few lines of code. Source: [Matplotlib](https://matplotlib.org). <br> \n",
        "We'll cover only some of the coolest features in this Notebook due to time constraints. You can explore more on the [official website](https://matplotlib.org/tutorials/index.html)"
      ]
    },
    {
      "cell_type": "markdown",
      "metadata": {
        "id": "AF_UaXHGKKdM"
      },
      "source": [
        "Let's import the `mathplotlib` library under the alias `plt`"
      ]
    },
    {
      "cell_type": "code",
      "metadata": {
        "id": "SPimxVV7KKdM"
      },
      "source": [
        "import matplotlib.pyplot as plt"
      ],
      "execution_count": 50,
      "outputs": []
    },
    {
      "cell_type": "markdown",
      "metadata": {
        "id": "sQNhgmjFKKdN"
      },
      "source": [
        "### Pyplot"
      ]
    },
    {
      "cell_type": "markdown",
      "metadata": {
        "id": "9WbbAMlRKKdN"
      },
      "source": [
        "Pyplot is a module of Matplotlib which provides simple functions to add plot elements like lines, images, text, etc. to the current axes in the current figure."
      ]
    },
    {
      "cell_type": "markdown",
      "metadata": {
        "id": "00Fel6ykKKdN"
      },
      "source": [
        "We'll import the Pyplot module to create a simple plot. We will be using two NumPy arrays - one for the x-coordinates and another for the y-coordinates:"
      ]
    },
    {
      "cell_type": "code",
      "metadata": {
        "id": "sLSc7SbHKKdN",
        "colab": {
          "base_uri": "https://localhost:8080/",
          "height": 265
        },
        "outputId": "5e99544a-e45c-4032-f8a7-34fce8ed1871"
      },
      "source": [
        "plt.plot([1,2,3,4],[1,4,9,16]) # plt.plot([x-coordinates], [y-coordinates])\n",
        "plt.show()"
      ],
      "execution_count": 51,
      "outputs": [
        {
          "output_type": "display_data",
          "data": {
            "image/png": "[encoded data removed]",
            "text/plain": [
              "<Figure size 432x288 with 1 Axes>"
            ]
          },
          "metadata": {
            "needs_background": "light"
          }
        }
      ]
    },
    {
      "cell_type": "markdown",
      "metadata": {
        "id": "weoDq9MYKKdO"
      },
      "source": [
        "Now, we can add titles, and labels:"
      ]
    },
    {
      "cell_type": "code",
      "metadata": {
        "id": "iHnwLMXHKKdO",
        "colab": {
          "base_uri": "https://localhost:8080/",
          "height": 295
        },
        "outputId": "b40a4d99-ad7c-4afa-8844-03b3e9b05c9a"
      },
      "source": [
        "plt.plot([1,2,3,4],[1,4,9,16]) # plt.plot([x-coordinates], [y-coordinates])\n",
        "plt.title(\"First Plot\")\n",
        "plt.xlabel(\"X Label\")\n",
        "plt.ylabel(\"Y Label\")\n",
        "plt.show()"
      ],
      "execution_count": 52,
      "outputs": [
        {
          "output_type": "display_data",
          "data": {
            "image/png": "[encoded data removed]",
            "text/plain": [
              "<Figure size 432x288 with 1 Axes>"
            ]
          },
          "metadata": {
            "needs_background": "light"
          }
        }
      ]
    },
    {
      "cell_type": "markdown",
      "metadata": {
        "id": "LH76ssZnKKdP"
      },
      "source": [
        "Another commonly used graph in Machine Learning is the Scatter Plot. Let's create a basic scatterplot in MathPlotLib comparing the distribution of height vs. weight: "
      ]
    },
    {
      "cell_type": "code",
      "metadata": {
        "id": "9O0CPOx4KKdQ",
        "colab": {
          "base_uri": "https://localhost:8080/",
          "height": 295
        },
        "outputId": "68f4e95a-9cee-401c-dcf4-53ba548e30dd"
      },
      "source": [
        "height = np.array([167, 170, 149, 165, 155, 180, 166, 146, 159, 185, 145, 168, 172, 181, 169])\n",
        "weight = np.array([86,74,66,78,68,79,90,73,70,88,66,84, 67, 84, 77])\n",
        "\n",
        "#We can set the limit (lower, upper) for the x-axis and the y-axis using xlim and ylim, respectively.\n",
        "plt.xlim(140, 200)\n",
        "plt.ylim(60,100)\n",
        "#A scatterplot can be generated through .scatter(x,y)\n",
        "plt.scatter(height,weight)\n",
        "plt.title(\"Comparing Height vs. Weight\")\n",
        "plt.xlabel(\"Height\")\n",
        "plt.ylabel(\"Weight\")\n",
        "plt.show()"
      ],
      "execution_count": 53,
      "outputs": [
        {
          "output_type": "display_data",
          "data": {
            "image/png": "[encoded data removed]",
            "text/plain": [
              "<Figure size 432x288 with 1 Axes>"
            ]
          },
          "metadata": {
            "needs_background": "light"
          }
        }
      ]
    },
    {
      "cell_type": "markdown",
      "metadata": {
        "id": "6mxMn_4bKKdR"
      },
      "source": [
        "## Exercise: MatPlotLib 🏃 "
      ]
    },
    {
      "cell_type": "markdown",
      "metadata": {
        "id": "3LfHjeNWKKdR"
      },
      "source": [
        "- Using the data for the animal weights and lengths, create an scatterplot comparing the information. \n",
        "\n",
        "Note: Remember to properly label the graph (x-axis, y-axis, and title!)"
      ]
    },
    {
      "cell_type": "code",
      "metadata": {
        "id": "xFK94CA71yul",
        "colab": {
          "base_uri": "https://localhost:8080/",
          "height": 295
        },
        "outputId": "0e5a61a8-0529-4f34-fd17-0e1d66638f37"
      },
      "source": [
        "import matplotlib.pyplot as plt\n",
        "weight = animal[\"Weight\"]\n",
        "length = animal[\"Length\"]\n",
        "\n",
        "#We can set the limit (lower, upper) for the x-axis and the y-axis using xlim and ylim, respectively.\n",
        "plt.xlim(5, 15)\n",
        "plt.ylim(0,10)\n",
        "#A scatterplot can be generated through .scatter(x,y)\n",
        "plt.scatter(weight,length)\n",
        "plt.title(\"Comparing weight vs. length\")\n",
        "plt.xlabel(\"weight\")\n",
        "plt.ylabel(\"length\")\n",
        "plt.show()"
      ],
      "execution_count": 54,
      "outputs": [
        {
          "output_type": "display_data",
          "data": {
            "image/png": "[encoded data removed]",
            "text/plain": [
              "<Figure size 432x288 with 1 Axes>"
            ]
          },
          "metadata": {
            "needs_background": "light"
          }
        }
      ]
    },
    {
      "cell_type": "markdown",
      "metadata": {
        "id": "wh-AfqzEKKdR"
      },
      "source": [
        "# Seaborn: Another (tiny) introduction 🌊 "
      ]
    },
    {
      "cell_type": "markdown",
      "metadata": {
        "id": "X3OFm9_LKKdR"
      },
      "source": [
        "Let's first import the library for seaborn under the alias sns:"
      ]
    },
    {
      "cell_type": "code",
      "metadata": {
        "id": "ghg0flCUytpS"
      },
      "source": [
        "import seaborn as sns"
      ],
      "execution_count": null,
      "outputs": []
    },
    {
      "cell_type": "markdown",
      "metadata": {
        "id": "9kT_EQIkKKdS"
      },
      "source": [
        "Let's import a csv file - comma-seperated values - that details the total bill costs and the tips. We'll run a scatterplot on this data:"
      ]
    },
    {
      "cell_type": "code",
      "metadata": {
        "id": "bx-QuQQ3KKdT",
        "colab": {
          "base_uri": "https://localhost:8080/",
          "height": 280
        },
        "outputId": "a3fd610a-8092-4a1c-a7d4-96f053b6bded"
      },
      "source": [
        "# Run this code to import the data and read it in using 'pd.read_csv('file')'\n",
        "tips = pd.read_csv('tips.csv')\n",
        "ax = sns.scatterplot(x=\"total_bill\", y=\"tip\", data=tips) #plotting it"
      ],
      "execution_count": null,
      "outputs": [
        {
          "output_type": "display_data",
          "data": {
            "image/png": "[encoded data removed]",
            "text/plain": [
              "<Figure size 432x288 with 1 Axes>"
            ]
          },
          "metadata": {
            "tags": [],
            "needs_background": "light"
          }
        }
      ]
    },
    {
      "cell_type": "markdown",
      "metadata": {
        "id": "gUDdScq-KKdU"
      },
      "source": [
        "The scatterplot above does not discriminate between the days of the week. What if we wanted to see the distribution of the data for each day? \n",
        "<br> \n",
        "For this, we can consider using a categorical scatterplot with the **.catplot()** method. "
      ]
    },
    {
      "cell_type": "code",
      "metadata": {
        "id": "zw8v_e-hKKdU",
        "colab": {
          "base_uri": "https://localhost:8080/",
          "height": 383
        },
        "outputId": "fe8c0c43-d154-4e46-fdd1-c8614e81390a"
      },
      "source": [
        "sns.catplot(x=\"day\", y=\"total_bill\", data=tips);"
      ],
      "execution_count": null,
      "outputs": [
        {
          "output_type": "display_data",
          "data": {
            "image/png": "[encoded data removed]",
            "text/plain": [
              "<Figure size 360x360 with 1 Axes>"
            ]
          },
          "metadata": {
            "tags": [],
            "needs_background": "light"
          }
        }
      ]
    },
    {
      "cell_type": "markdown",
      "metadata": {
        "id": "6W0Rxlt1KKdW"
      },
      "source": [
        "We can go even further! How about we try sorting the time of the day that the customer dined at the restaraunt? Let's use the swarm parameter to prevent the points from overlapping and group by time:"
      ]
    },
    {
      "cell_type": "code",
      "metadata": {
        "id": "vp3BnS7UKKdW",
        "colab": {
          "base_uri": "https://localhost:8080/",
          "height": 384
        },
        "outputId": "f45f4b3b-14f9-4317-9c45-439fef126a9e"
      },
      "source": [
        "sns.catplot(x=\"total_bill\", y=\"day\", hue=\"time\", kind=\"swarm\", data=tips);"
      ],
      "execution_count": null,
      "outputs": [
        {
          "output_type": "display_data",
          "data": {
            "image/png": "[encoded data removed]",
            "text/plain": [
              "<Figure size 429.625x360 with 1 Axes>"
            ]
          },
          "metadata": {
            "tags": [],
            "needs_background": "light"
          }
        }
      ]
    },
    {
      "cell_type": "markdown",
      "metadata": {
        "id": "Aij7Gu_lKKdX"
      },
      "source": [
        "To reiterate, the *hue* parameter allows us to add another dimension to group data by color. The *Swarm* parameter helps us to visualize the data more clearly by preventing overlapping points (as opposed to catplot where points with the same data values will lie on top of each other)."
      ]
    },
    {
      "cell_type": "markdown",
      "metadata": {
        "id": "xR4_GYXdKKdX"
      },
      "source": [
        "## Exercise: Seaborn 🐳"
      ]
    },
    {
      "cell_type": "markdown",
      "metadata": {
        "id": "0VYlmLfKKKdX"
      },
      "source": [
        "Time for one of our last exercises!"
      ]
    },
    {
      "cell_type": "markdown",
      "metadata": {
        "id": "tE5KW2hJKKdX"
      },
      "source": [
        "- Create a simple scatterplot comparing size of tip vs. size of table. "
      ]
    },
    {
      "cell_type": "code",
      "metadata": {
        "id": "CBA9c0zJ139G",
        "colab": {
          "base_uri": "https://localhost:8080/",
          "height": 279
        },
        "outputId": "4f55a594-9181-4854-fc8c-fbdab00d2904"
      },
      "source": [
        "ax = sns.scatterplot(x=\"size\", y=\"tip\", data=tips)"
      ],
      "execution_count": null,
      "outputs": [
        {
          "output_type": "display_data",
          "data": {
            "image/png": "[encoded data removed]",
            "text/plain": [
              "<Figure size 432x288 with 1 Axes>"
            ]
          },
          "metadata": {
            "tags": [],
            "needs_background": "light"
          }
        }
      ]
    },
    {
      "cell_type": "markdown",
      "source": [
        "\n",
        "After this point the code was premade and not coded by me\n"
      ],
      "metadata": {
        "id": "S7SDGC37uHOK"
      }
    },
    {
      "cell_type": "markdown",
      "metadata": {
        "id": "FuPzuDVVKKdX"
      },
      "source": [
        "# Scikit-Learn: A Small Preview 👀"
      ]
    },
    {
      "cell_type": "markdown",
      "metadata": {
        "id": "DVRl5hoNKKdY"
      },
      "source": [
        "**Scikit-learn** is a free software machine learning library for the Python programming language. It features various classification, regression and clustering algorithms including support vector machines, random forests, gradient boosting, k-means and DBSCAN, and is designed to interoperate with the Python numerical and scientific libraries NumPy and SciPy. Official website: https://scikit-learn.org/ <br>\n",
        "We'll be building a simple linear regression in Scikit-Learn to demonstrate how the library works at the base level. "
      ]
    },
    {
      "cell_type": "markdown",
      "metadata": {
        "id": "V7BLSrIJKKdY"
      },
      "source": [
        "## Sneak Peak: Linear Regression 🏡"
      ]
    },
    {
      "cell_type": "markdown",
      "metadata": {
        "id": "NOwFVD4iKKdY"
      },
      "source": [
        "Linear regression is a linear approach to modeling a relationship between an response variable and an explanatory variable. We will study this in detail tomorrow!\n",
        "\n",
        "We'll create a small model that predicts the relationship between expected and true housing prices using the Boston Housing Dataset:"
      ]
    },
    {
      "cell_type": "markdown",
      "metadata": {
        "id": "kTMMlpXQKKdY"
      },
      "source": [
        "## Import 📦 "
      ]
    },
    {
      "cell_type": "code",
      "metadata": {
        "id": "enQickNWKKdY"
      },
      "source": [
        "from sklearn.model_selection import train_test_split\n",
        "from sklearn.linear_model import LinearRegression\n",
        "from sklearn.datasets import load_boston\n",
        "data = load_boston()"
      ],
      "execution_count": null,
      "outputs": []
    },
    {
      "cell_type": "markdown",
      "metadata": {
        "id": "7Nq4Vr79tPmD"
      },
      "source": [
        "### What is this data?"
      ]
    },
    {
      "cell_type": "code",
      "metadata": {
        "id": "XATXaddItSKK",
        "colab": {
          "base_uri": "https://localhost:8080/"
        },
        "outputId": "216c75ac-d88a-4b79-a3c6-3db783d29164"
      },
      "source": [
        "# Print the description of the dataset (first 1500 characters)\n",
        "print(data.DESCR[:1400])"
      ],
      "execution_count": null,
      "outputs": [
        {
          "output_type": "stream",
          "text": [
            ".. _boston_dataset:\n",
            "\n",
            "Boston house prices dataset\n",
            "---------------------------\n",
            "\n",
            "**Data Set Characteristics:**  \n",
            "\n",
            "    :Number of Instances: 506 \n",
            "\n",
            "    :Number of Attributes: 13 numeric/categorical predictive. Median Value (attribute 14) is usually the target.\n",
            "\n",
            "    :Attribute Information (in order):\n",
            "        - CRIM     per capita crime rate by town\n",
            "        - ZN       proportion of residential land zoned for lots over 25,000 sq.ft.\n",
            "        - INDUS    proportion of non-retail business acres per town\n",
            "        - CHAS     Charles River dummy variable (= 1 if tract bounds river; 0 otherwise)\n",
            "        - NOX      nitric oxides concentration (parts per 10 million)\n",
            "        - RM       average number of rooms per dwelling\n",
            "        - AGE      proportion of owner-occupied units built prior to 1940\n",
            "        - DIS      weighted distances to five Boston employment centres\n",
            "        - RAD      index of accessibility to radial highways\n",
            "        - TAX      full-value property-tax rate per $10,000\n",
            "        - PTRATIO  pupil-teacher ratio by town\n",
            "        - B        1000(Bk - 0.63)^2 where Bk is the proportion of blacks by town\n",
            "        - LSTAT    % lower status of the population\n",
            "        - MEDV     Median value of owner-occupied homes in $1000's\n",
            "\n",
            "    :Missing Attribute Values: None\n",
            "\n",
            "    :Creator: Harrison, D. and Rubinfeld, D.L.\n",
            "\n",
            "This is a copy of UCI ML housing dataset.\n",
            "https://archive.ics.uci.edu/ml/machine-learni\n"
          ],
          "name": "stdout"
        }
      ]
    },
    {
      "cell_type": "code",
      "metadata": {
        "id": "TJqB1X3AuLyz",
        "colab": {
          "base_uri": "https://localhost:8080/"
        },
        "outputId": "923308bc-7d93-4ef2-d3ac-a6bee1de9827"
      },
      "source": [
        "# data.data are all the houses with their attributes.\n",
        "# data.target are the corresponding house prices\n",
        " \n",
        "print(\"House 1, attributes: \", data.data[0])\n",
        "\n",
        "# Show the actual price for these 2 houses\n",
        "print(\"House 1, price: \", data.target[0])"
      ],
      "execution_count": null,
      "outputs": [
        {
          "output_type": "stream",
          "text": [
            "House 1, attributes:  [6.320e-03 1.800e+01 2.310e+00 0.000e+00 5.380e-01 6.575e+00 6.520e+01\n",
            " 4.090e+00 1.000e+00 2.960e+02 1.530e+01 3.969e+02 4.980e+00]\n",
            "House 1, price:  24.0\n"
          ],
          "name": "stdout"
        }
      ]
    },
    {
      "cell_type": "markdown",
      "metadata": {
        "id": "j5vaztG9KKdZ"
      },
      "source": [
        "## Train and Define 🚂 "
      ]
    },
    {
      "cell_type": "markdown",
      "metadata": {
        "id": "uEd9diyUKKdZ"
      },
      "source": [
        "We're going to define our X-axis and Y-axis and fit the model to a Linear Regression model."
      ]
    },
    {
      "cell_type": "code",
      "metadata": {
        "id": "rjwnl-z6KKdZ"
      },
      "source": [
        "X_train, X_test, y_train, y_test = train_test_split(data.data, data.target)\n",
        "clf = LinearRegression()\n",
        "clf.fit(X_train, y_train)\n",
        "predicted = clf.predict(X_test)\n",
        "expected = y_test"
      ],
      "execution_count": null,
      "outputs": []
    },
    {
      "cell_type": "markdown",
      "metadata": {
        "id": "0QdXhrp6KKdZ"
      },
      "source": [
        "## Plot 📊"
      ]
    },
    {
      "cell_type": "code",
      "metadata": {
        "id": "hPaS2_nvKKdZ",
        "colab": {
          "base_uri": "https://localhost:8080/",
          "height": 225
        },
        "outputId": "da20aeb0-ba0c-4331-8203-084aaa6cf4e9"
      },
      "source": [
        "plt.figure(figsize=(4, 3))\n",
        "plt.scatter(expected, predicted)\n",
        "plt.plot([0, 50], [0, 50], '--k')\n",
        "plt.axis('tight')\n",
        "plt.xlabel('True price ($1000s)')\n",
        "plt.ylabel('Predicted price ($1000s)')\n",
        "plt.tight_layout()"
      ],
      "execution_count": null,
      "outputs": [
        {
          "output_type": "display_data",
          "data": {
            "image/png": "[encoded data removed]",
            "text/plain": [
              "<Figure size 288x216 with 1 Axes>"
            ]
          },
          "metadata": {
            "tags": [],
            "needs_background": "light"
          }
        }
      ]
    },
    {
      "cell_type": "markdown",
      "metadata": {
        "id": "iSHOGMQhKKda"
      },
      "source": [
        "Woo! We've just seen a small preview of what Scikit-learn can do. We have the ability to create an accurate ML model with a few lines of code. \n",
        "\n",
        "We hope you learned something useful, and feel more curious to learn more about AI! "
      ]
    }
  ]
}