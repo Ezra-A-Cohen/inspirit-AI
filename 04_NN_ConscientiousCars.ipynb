{
  "nbformat": 4,
  "nbformat_minor": 0,
  "metadata": {
    "colab": {
      "name": "04_NN_ConscientiousCars.ipynb",
      "provenance": [],
      "collapsed_sections": [],
      "include_colab_link": true
    },
    "kernelspec": {
      "name": "python3",
      "display_name": "Python 3"
    },
    "accelerator": "GPU"
  },
  "cells": [
    {
      "cell_type": "markdown",
      "metadata": {
        "id": "view-in-github",
        "colab_type": "text"
      },
      "source": [
        "<a href=\"https://colab.research.google.com/github/Ezra-A-Cohen/inspirit-AI/blob/main/04_NN_ConscientiousCars.ipynb\" target=\"_parent\"><img src=\"https://colab.research.google.com/assets/colab-badge.svg\" alt=\"Open In Colab\"/></a>"
      ]
    },
    {
      "cell_type": "markdown",
      "metadata": {
        "id": "Sq-JhCcLpBwS"
      },
      "source": [
        "\n",
        "We work for CC: ConscientiousCars, where we help self-driving vehicles be more conscientious of their surroundings. Our cars have been very good at recognizing and avoiding humans. They haven't, however, been capable of recognizing dogs. Since dogs are man's best friend and will always be where we humans are, we want our cars to know if a dog is on the road in front of them and avoid the dog!\n",
        "\n",
        "The first step to avoiding these cute puppers is **knowing if a pupper is in front of the car**. So today we will **build a detector that can tell when our car sees a dog or not**!\n",
        "\n",
        "In this notebook, you'll:\n",
        "- Explore the cars vs. roads dataset\n",
        "- Train a simple K-neighbors classifier for computer vision\n",
        "- Train neural nets to tell dogs from roads\n",
        "- Improve your model with convolutional neural networks!\n",
        "\n"
      ]
    },
    {
      "cell_type": "code",
      "source": [
        "pip install scikeras"
      ],
      "metadata": {
        "colab": {
          "base_uri": "https://localhost:8080/"
        },
        "id": "0lU67WELV4z5",
        "outputId": "803ee2b8-80b4-4683-9f5a-2d3ba722c6c8"
      },
      "execution_count": 1,
      "outputs": [
        {
          "output_type": "stream",
          "name": "stdout",
          "text": [
            "Requirement already satisfied: scikeras in /usr/local/lib/python3.7/dist-packages (0.6.0)\n",
            "Requirement already satisfied: packaging<22.0,>=0.21 in /usr/local/lib/python3.7/dist-packages (from scikeras) (21.3)\n",
            "Requirement already satisfied: scikit-learn>=1.0.0 in /usr/local/lib/python3.7/dist-packages (from scikeras) (1.0.2)\n",
            "Requirement already satisfied: importlib-metadata<4,>=3 in /usr/local/lib/python3.7/dist-packages (from scikeras) (3.10.1)\n",
            "Requirement already satisfied: typing-extensions>=3.6.4 in /usr/local/lib/python3.7/dist-packages (from importlib-metadata<4,>=3->scikeras) (3.10.0.2)\n",
            "Requirement already satisfied: zipp>=0.5 in /usr/local/lib/python3.7/dist-packages (from importlib-metadata<4,>=3->scikeras) (3.7.0)\n",
            "Requirement already satisfied: pyparsing!=3.0.5,>=2.0.2 in /usr/local/lib/python3.7/dist-packages (from packaging<22.0,>=0.21->scikeras) (3.0.7)\n",
            "Requirement already satisfied: threadpoolctl>=2.0.0 in /usr/local/lib/python3.7/dist-packages (from scikit-learn>=1.0.0->scikeras) (3.1.0)\n",
            "Requirement already satisfied: joblib>=0.11 in /usr/local/lib/python3.7/dist-packages (from scikit-learn>=1.0.0->scikeras) (1.1.0)\n",
            "Requirement already satisfied: numpy>=1.14.6 in /usr/local/lib/python3.7/dist-packages (from scikit-learn>=1.0.0->scikeras) (1.19.5)\n",
            "Requirement already satisfied: scipy>=1.1.0 in /usr/local/lib/python3.7/dist-packages (from scikit-learn>=1.0.0->scikeras) (1.4.1)\n"
          ]
        }
      ]
    },
    {
      "cell_type": "code",
      "metadata": {
        "id": "uhNVum16scIW"
      },
      "source": [
        "#@title Run this to load some packages and data! { display-mode: \"form\" }\n",
        "from sklearn.neural_network import MLPClassifier\n",
        "from sklearn.neighbors import KNeighborsClassifier\n",
        "from sklearn import model_selection\n",
        "import numpy as np\n",
        "from sklearn.metrics import accuracy_score\n",
        "from collections import Counter\n",
        "import tensorflow as tf\n",
        "from tensorflow import keras\n",
        "from tensorflow.keras.models import Sequential\n",
        "from tensorflow.keras.layers import Dense, Conv2D\n",
        "from tensorflow.keras.layers import Activation, MaxPooling2D, Dropout, Flatten, Reshape\n",
        "import scikeras\n",
        "from scikeras.wrappers import KerasClassifier\n",
        "from sklearn.model_selection import StratifiedKFold\n",
        "from sklearn.model_selection import cross_val_score\n",
        "import pandas as pd\n",
        "import matplotlib.pyplot as plt\n",
        "import seaborn as sns\n",
        "\n",
        "import warnings\n",
        "warnings.filterwarnings(\"ignore\", category=UserWarning)\n",
        "\n",
        "def load_data():\n",
        "  # Run this cell to download our data into a file called 'cifar_data'\n",
        "  import gdown\n",
        "  # gdown.download('https://drive.google.com/uc?id=1-BjeqccJdLiBA6PnNinmXSQ6w5BluLem','cifar_data','True'); # dogs v road;\n",
        "  !wget -O cifar_data https://storage.googleapis.com/inspirit-ai-data-bucket-1/Data/AI%20Scholars/Sessions%201%20-%205/Session%204%20_%205%20-%20Neural%20Networks%20_%20CNN/dogs_v_roads\n",
        "\n",
        "  # now load the data from our cloud computer\n",
        "  import pickle\n",
        "  data_dict = pickle.load(open( \"cifar_data\", \"rb\" ));\n",
        "  \n",
        "  data   = data_dict['data']\n",
        "  labels = data_dict['labels']\n",
        "  \n",
        "  return data, labels\n",
        "\n",
        "def plot_one_image(data, labels, img_idx):\n",
        "  from google.colab.patches import cv2_imshow\n",
        "  import cv2\n",
        "  import matplotlib.pyplot as plt\n",
        "  my_img   = data[img_idx, :].squeeze().reshape([32,32,3]).copy()\n",
        "  my_label = labels[img_idx]\n",
        "  print('label: %s'%my_label)\n",
        "  fig, ax = plt.subplots(1,1)\n",
        "\n",
        "  img = ax.imshow(my_img, extent=[-1,1,-1,1])\n",
        "\n",
        "  x_label_list = [0, 8, 16, 24, 32]\n",
        "  y_label_list = [0, 8, 16, 24, 32]\n",
        "\n",
        "  ax.set_xticks([-1, -0.5, 0, 0.5, 1])\n",
        "  ax.set_yticks([-1, -0.5, 0, 0.5, 1])\n",
        "\n",
        "  ax.set_xticklabels(x_label_list)\n",
        "  ax.set_yticklabels(y_label_list)\n",
        "\n",
        "  fig.show(img)\n",
        "#np.array(list(map(lambda x: 1 if x == \"dog\" else 0, y_train)), dtype=\"float32\")\n",
        "def categorical_to_numpy(labels_in):\n",
        "  return np.array(list(map(lambda x: np.array([1, 0]) if x == \"dog\" else np.array([0, 1]), labels_in)), dtype=\"float32\")\n",
        "  \n",
        "def CNNClassifier(num_epochs=30):\n",
        "  def create_model():\n",
        "    model = Sequential()\n",
        "    if x==0:\n",
        "      model.add(tf.keras.layers.Input(shape=(3072)))\n",
        "      model.add(Reshape((32, 32, 3)))\n",
        "      model.add(Conv2D(32, (3, 3), padding='same'))\n",
        "      model.add(Activation('relu'))\n",
        "      model.add(Conv2D(32, (3, 3)))\n",
        "      model.add(Activation('relu'))\n",
        "      model.add(MaxPooling2D(pool_size=(2, 2)))\n",
        "      model.add(Dropout(0.25))\n",
        "\n",
        "      model.add(Conv2D(64, (3, 3), padding='same'))\n",
        "      model.add(Activation('relu'))\n",
        "      model.add(Conv2D(64, (3, 3)))\n",
        "      model.add(Activation('relu'))\n",
        "      model.add(MaxPooling2D(pool_size=(2, 2)))\n",
        "      model.add(Dropout(0.25))\n",
        "\n",
        "      model.add(Flatten())\n",
        "      model.add(Dense(512))\n",
        "      model.add(Activation('relu'))\n",
        "      model.add(Dropout(0.5))\n",
        "      model.add(Dense(2))\n",
        "      model.add(Activation('softmax'))\n",
        "    else:\n",
        "      model.add(tf.keras.layers.Input(shape=(6144)))\n",
        "      model.add(Reshape((64, 32, 3)))\n",
        "      model.add(Conv2D(64, (3, 3), padding='same'))\n",
        "      model.add(Activation('relu'))\n",
        "      model.add(Conv2D(64, (3, 3)))\n",
        "      model.add(Activation('relu'))\n",
        "      model.add(MaxPooling2D(pool_size=(2, 2)))\n",
        "      model.add(Dropout(0.25))\n",
        "\n",
        "      model.add(Conv2D(128, (3, 3), padding='same'))\n",
        "      model.add(Activation('relu'))\n",
        "      model.add(Conv2D(128, (3, 3)))\n",
        "      model.add(Activation('relu'))\n",
        "      model.add(MaxPooling2D(pool_size=(2, 2)))\n",
        "      model.add(Dropout(0.25))\n",
        "\n",
        "      model.add(Flatten())\n",
        "      model.add(Dense(512))\n",
        "      model.add(Activation('relu'))\n",
        "      model.add(Dropout(0.5))\n",
        "      model.add(Dense(2))\n",
        "      model.add(Activation('softmax'))\n",
        "\n",
        "    # initiate RMSprop optimizer\n",
        "    opt = keras.optimizers.RMSprop(lr=0.0001, decay=1e-6)\n",
        "\n",
        "    # Let's train the model using RMSprop\n",
        "    model.compile(loss=\"sparse_categorical_crossentropy\",\n",
        "                  optimizer=opt,\n",
        "                  metrics=['accuracy'])\n",
        "    return model\n",
        "  return KerasClassifier(build_fn=create_model, epochs=num_epochs, batch_size=10, verbose=2)\n",
        "\n",
        "\n",
        "def plot_acc(history, ax = None, xlabel = 'Epoch #'):\n",
        "    history = history.history\n",
        "    history.update({'epoch':list(range(len(history['val_accuracy'])))})\n",
        "    history = pd.DataFrame.from_dict(history)\n",
        "\n",
        "    best_epoch = history.sort_values(by = 'val_accuracy', ascending = False).iloc[0]['epoch']\n",
        "\n",
        "    if not ax:\n",
        "      f, ax = plt.subplots(1,1)\n",
        "    sns.lineplot(x = 'epoch', y = 'val_accuracy', data = history, label = 'Validation', ax = ax)\n",
        "    sns.lineplot(x = 'epoch', y = 'accuracy', data = history, label = 'Training', ax = ax)\n",
        "    ax.axhline(0.5, linestyle = '--',color='red', label = 'Chance')\n",
        "    ax.axvline(x = best_epoch, linestyle = '--', color = 'green', label = 'Best Epoch')  \n",
        "    ax.legend(loc = 1)    \n",
        "    ax.set_ylim([0.4, 1])\n",
        "\n",
        "    ax.set_xlabel(xlabel)\n",
        "    ax.set_ylabel('Accuracy (Fraction)')\n",
        "    \n",
        "    plt.show()"
      ],
      "execution_count": 28,
      "outputs": []
    },
    {
      "cell_type": "markdown",
      "metadata": {
        "id": "1QxGsnvhnn8R"
      },
      "source": [
        "# Understanding our data"
      ]
    },
    {
      "cell_type": "markdown",
      "metadata": {
        "id": "btr24O6Hqgo6"
      },
      "source": [
        "Our cars are very attentive and always have their eyes on the road.\n",
        "\n",
        "Every second, they're streaming in data about the street, including video.\n",
        "\n",
        "From this video data, we want our car to tell: is there 'road' or 'dog' in front of it?\n",
        "\n",
        "Lucky for us, we have a dataset of dog and road images already prepared! Let's start by reading that *labeled* data in. \n"
      ]
    },
    {
      "cell_type": "code",
      "metadata": {
        "id": "MmZbrZoKnthN",
        "colab": {
          "base_uri": "https://localhost:8080/"
        },
        "outputId": "29304616-58c6-4425-af7f-e2bce83e5bf9"
      },
      "source": [
        "# load our data \n",
        "data, labels = load_data()"
      ],
      "execution_count": 3,
      "outputs": [
        {
          "output_type": "stream",
          "name": "stdout",
          "text": [
            "--2022-02-06 04:43:30--  https://storage.googleapis.com/inspirit-ai-data-bucket-1/Data/AI%20Scholars/Sessions%201%20-%205/Session%204%20_%205%20-%20Neural%20Networks%20_%20CNN/dogs_v_roads\n",
            "Resolving storage.googleapis.com (storage.googleapis.com)... 173.194.217.128, 173.194.218.128, 108.177.11.128, ...\n",
            "Connecting to storage.googleapis.com (storage.googleapis.com)|173.194.217.128|:443... connected.\n",
            "HTTP request sent, awaiting response... 200 OK\n",
            "Length: 3689015 (3.5M) [application/octet-stream]\n",
            "Saving to: ‘cifar_data’\n",
            "\n",
            "cifar_data          100%[===================>]   3.52M  --.-KB/s    in 0.03s   \n",
            "\n",
            "2022-02-06 04:43:30 (134 MB/s) - ‘cifar_data’ saved [3689015/3689015]\n",
            "\n"
          ]
        }
      ]
    },
    {
      "cell_type": "markdown",
      "metadata": {
        "id": "AGO0FFnqdFne"
      },
      "source": [
        "Let's look at an image of a dog!\n",
        "\n",
        "Try changing the number below. What does it do?\n",
        "\n"
      ]
    },
    {
      "cell_type": "code",
      "metadata": {
        "id": "csXB_FPMrx1D",
        "colab": {
          "base_uri": "https://localhost:8080/",
          "height": 287
        },
        "outputId": "2a98d9b0-f6ae-4b65-a82f-1eb20d1aa61b"
      },
      "source": [
        "plot_one_image(data, labels, 95) #change this number"
      ],
      "execution_count": 4,
      "outputs": [
        {
          "output_type": "stream",
          "name": "stdout",
          "text": [
            "label: dog\n"
          ]
        },
        {
          "output_type": "display_data",
          "data": {
            "image/png": "[encoded data removed]",
            "text/plain": [
              "<Figure size 432x288 with 1 Axes>"
            ]
          },
          "metadata": {
            "needs_background": "light"
          }
        }
      ]
    },
    {
      "cell_type": "markdown",
      "metadata": {
        "id": "ZYRzHTxVdSTG"
      },
      "source": [
        "**Discuss:** Why might we be using such blurry images?\n",
        "\n",
        "Next, let's try a road image. Again, try changing the number:"
      ]
    },
    {
      "cell_type": "code",
      "metadata": {
        "id": "CsRj6BAqs25Y",
        "colab": {
          "base_uri": "https://localhost:8080/",
          "height": 287
        },
        "outputId": "478fda42-6d84-45cb-e3e7-4b5896514528"
      },
      "source": [
        "plot_one_image(data, labels, 777) #change this number"
      ],
      "execution_count": 5,
      "outputs": [
        {
          "output_type": "stream",
          "name": "stdout",
          "text": [
            "label: road\n"
          ]
        },
        {
          "output_type": "display_data",
          "data": {
            "image/png": "[encoded data removed]",
            "text/plain": [
              "<Figure size 432x288 with 1 Axes>"
            ]
          },
          "metadata": {
            "needs_background": "light"
          }
        }
      ]
    },
    {
      "cell_type": "markdown",
      "metadata": {
        "id": "r0Qx4UYxdbTK"
      },
      "source": [
        "How many images do we have?"
      ]
    },
    {
      "cell_type": "code",
      "metadata": {
        "id": "6LQXCiGmAmz-",
        "colab": {
          "base_uri": "https://localhost:8080/"
        },
        "outputId": "877a8934-2bc1-4014-b93b-89744fa0767b"
      },
      "source": [
        "print (len(data))\n",
        "\n",
        "print(Counter(labels))\n"
      ],
      "execution_count": 6,
      "outputs": [
        {
          "output_type": "stream",
          "name": "stdout",
          "text": [
            "1200\n",
            "Counter({'dog': 600, 'road': 600})\n"
          ]
        }
      ]
    },
    {
      "cell_type": "markdown",
      "metadata": {
        "id": "OojOPMbLAl2B"
      },
      "source": [
        "The dataset is organized such 600 images are pictures of dogs and the last 600 images are pictures of roads."
      ]
    },
    {
      "cell_type": "markdown",
      "metadata": {
        "id": "9Sz2c5LlU7Sj"
      },
      "source": [
        "#### Optional Exercise: Examining More Images\n",
        "\n",
        "**Look at a few more images of both classes.** \n",
        "\n",
        "Try using a `for` loop to look at 5 images!"
      ]
    },
    {
      "cell_type": "code",
      "metadata": {
        "id": "DkcqdB2ZVoNc",
        "colab": {
          "base_uri": "https://localhost:8080/",
          "height": 1000
        },
        "outputId": "9953d666-3b42-4ec9-925e-6485109d0ab0"
      },
      "source": [
        "for i in range(0, 5):\n",
        "  plot_one_image(data, labels, i)\n",
        "\n",
        "for i in range(700, 705):\n",
        "  plot_one_image(data, labels, i)"
      ],
      "execution_count": 7,
      "outputs": [
        {
          "output_type": "stream",
          "name": "stdout",
          "text": [
            "label: dog\n",
            "label: dog\n",
            "label: dog\n",
            "label: dog\n",
            "label: dog\n",
            "label: road\n",
            "label: road\n",
            "label: road\n",
            "label: road\n",
            "label: road\n"
          ]
        },
        {
          "output_type": "display_data",
          "data": {
            "image/png": "[encoded data removed]",
            "text/plain": [
              "<Figure size 432x288 with 1 Axes>"
            ]
          },
          "metadata": {
            "needs_background": "light"
          }
        },
        {
          "output_type": "display_data",
          "data": {
            "image/png": "[encoded data removed]",
            "text/plain": [
              "<Figure size 432x288 with 1 Axes>"
            ]
          },
          "metadata": {
            "needs_background": "light"
          }
        },
        {
          "output_type": "display_data",
          "data": {
            "image/png": "[encoded data removed]",
            "text/plain": [
              "<Figure size 432x288 with 1 Axes>"
            ]
          },
          "metadata": {
            "needs_background": "light"
          }
        },
        {
          "output_type": "display_data",
          "data": {
            "image/png": "[encoded data removed]",
            "text/plain": [
              "<Figure size 432x288 with 1 Axes>"
            ]
          },
          "metadata": {
            "needs_background": "light"
          }
        },
        {
          "output_type": "display_data",
          "data": {
            "image/png": "[encoded data removed]",
            "text/plain": [
              "<Figure size 432x288 with 1 Axes>"
            ]
          },
          "metadata": {
            "needs_background": "light"
          }
        },
        {
          "output_type": "display_data",
          "data": {
            "image/png": "[encoded data removed]",
            "text/plain": [
              "<Figure size 432x288 with 1 Axes>"
            ]
          },
          "metadata": {
            "needs_background": "light"
          }
        },
        {
          "output_type": "display_data",
          "data": {
            "image/png": "[encoded data removed]",
            "text/plain": [
              "<Figure size 432x288 with 1 Axes>"
            ]
          },
          "metadata": {
            "needs_background": "light"
          }
        },
        {
          "output_type": "display_data",
          "data": {
            "image/png": "[encoded data removed]",
            "text/plain": [
              "<Figure size 432x288 with 1 Axes>"
            ]
          },
          "metadata": {
            "needs_background": "light"
          }
        },
        {
          "output_type": "display_data",
          "data": {
            "image/png": "[encoded data removed]",
            "text/plain": [
              "<Figure size 432x288 with 1 Axes>"
            ]
          },
          "metadata": {
            "needs_background": "light"
          }
        },
        {
          "output_type": "display_data",
          "data": {
            "image/png": "[encoded data removed]",
            "text/plain": [
              "<Figure size 432x288 with 1 Axes>"
            ]
          },
          "metadata": {
            "needs_background": "light"
          }
        }
      ]
    },
    {
      "cell_type": "markdown",
      "metadata": {
        "id": "PHS0E_3wt0RS"
      },
      "source": [
        "##Understanding our Data Representation\n",
        "\n",
        "In an image each pixel is denoted by 3 numbers that represent the intensity value of that pixel (0 - 255) for each color channel (R, G, and B). Below we \n",
        "see a list of numbers for each image that represent the intensity values. \n"
      ]
    },
    {
      "cell_type": "code",
      "metadata": {
        "id": "DlgF6jWit9jz",
        "colab": {
          "base_uri": "https://localhost:8080/"
        },
        "outputId": "4628f949-29be-4a73-f011-e5ff03eefe8b"
      },
      "source": [
        "print('One image looks like: ')\n",
        "print(data[0])\n",
        "print(\"Length of list: \", len(data[0]))"
      ],
      "execution_count": 8,
      "outputs": [
        {
          "output_type": "stream",
          "name": "stdout",
          "text": [
            "One image looks like: \n",
            "[45 20 19 ... 83 99 31]\n",
            "Length of list:  3072\n"
          ]
        }
      ]
    },
    {
      "cell_type": "markdown",
      "metadata": {
        "id": "gPu7IDsZU_On"
      },
      "source": [
        "**Discuss:** What does each number mean? Can you explain the length of the list?\n",
        "\n",
        "**Exercise:**\n",
        "Fill in the right values for the image width, image height, and number of color channels to calculate the right number of pixels."
      ]
    },
    {
      "cell_type": "code",
      "metadata": {
        "id": "YWBX6fWUui4R",
        "colab": {
          "base_uri": "https://localhost:8080/"
        },
        "outputId": "2d7dc7cf-7a0b-4c64-80ec-e1875e97c67d"
      },
      "source": [
        "img_height = 109 #Change this\n",
        "img_width = 77 #Change this\n",
        "color_channels = 68 #Change this\n",
        "\n",
        "print (\"Each image is\", img_height, 'x', img_width, 'pixels.')\n",
        "print (\"Each pixel has\", color_channels, \"channels for red, green, blue.\")\n",
        "print (\"This gives a total of\", img_height * img_width * color_channels, \"intensity values per image.\")\n",
        "print (\"Should be\", len(data[0]))"
      ],
      "execution_count": 9,
      "outputs": [
        {
          "output_type": "stream",
          "name": "stdout",
          "text": [
            "Each image is 109 x 77 pixels.\n",
            "Each pixel has 68 channels for red, green, blue.\n",
            "This gives a total of 570724 intensity values per image.\n",
            "Should be 3072\n"
          ]
        }
      ]
    },
    {
      "cell_type": "markdown",
      "metadata": {
        "id": "-haNvnOwt-YE"
      },
      "source": [
        "We use these values as **inputs** to predict an **output** label: 'dog' or 'road'!\n",
        "\n",
        "Here's what our entire dataset looks like:"
      ]
    },
    {
      "cell_type": "code",
      "metadata": {
        "id": "JZIiCuBrvS6z",
        "colab": {
          "base_uri": "https://localhost:8080/"
        },
        "outputId": "2683a369-7b04-4c18-9c30-29bbe0555129"
      },
      "source": [
        "print ('Data shape:', data.shape)\n",
        "print ('Data:', data)"
      ],
      "execution_count": 10,
      "outputs": [
        {
          "output_type": "stream",
          "name": "stdout",
          "text": [
            "Data shape: (1200, 3072)\n",
            "Data: [[ 45  20  19 ...  83  99  31]\n",
            " [101 114  35 ... 155 134  91]\n",
            " [213 221 221 ... 139  58  47]\n",
            " ...\n",
            " [126 174 202 ... 124 128 129]\n",
            " [191 232 240 ...  74  93  81]\n",
            " [237 248 254 ...  45  56  10]]\n"
          ]
        }
      ]
    },
    {
      "cell_type": "markdown",
      "metadata": {
        "id": "fmG7DtC9vkPV"
      },
      "source": [
        "\n",
        "# A simple machine learner\n"
      ]
    },
    {
      "cell_type": "markdown",
      "metadata": {
        "id": "hPskDCqlzOEE"
      },
      "source": [
        "\n",
        "\n",
        "We want to create a machine learning *model* that can tell us whether a new image is either a `dog` or a `road`. \n",
        "\n",
        "We will give our *model* a *training manual* of data and labels that it will study or train on. \n",
        "\n",
        "We then check how well our model is doing on a *test*, where it is given data and told to predict their labels. \n",
        "\n"
      ]
    },
    {
      "cell_type": "markdown",
      "metadata": {
        "id": "I1PIDJxtxrz6"
      },
      "source": [
        "## Splitting our data"
      ]
    },
    {
      "cell_type": "markdown",
      "metadata": {
        "id": "dVy577NrxrhQ"
      },
      "source": [
        "\n",
        "Let's first build our training manual and test from our data set. Below, we select randomly 20% of the data for the test, and 80% for the train. \n",
        "\n",
        "**Discuss:** Why do we need both testing and training data?\n",
        "\n"
      ]
    },
    {
      "cell_type": "code",
      "metadata": {
        "id": "fGWpMUUCwIgA"
      },
      "source": [
        "# Preparing data and create training and test inputs and labels\n",
        "X_train, X_test, y_train, y_test = model_selection.train_test_split(data, labels, test_size=0.2)"
      ],
      "execution_count": 11,
      "outputs": []
    },
    {
      "cell_type": "markdown",
      "metadata": {
        "id": "nfaRbggMxt-y"
      },
      "source": [
        "## Creating our model"
      ]
    },
    {
      "cell_type": "markdown",
      "metadata": {
        "id": "A7L6yN72xBvH"
      },
      "source": [
        "Now we will build and train a simple model. We will use the `KNeighborsClassifier` and train our model with `fit`, giving it the training inputs and labels. \n",
        "\n",
        "**Playground**: Explore [this demo](http://vision.stanford.edu/teaching/cs231n-demos/knn/) to understand what the KNN model is doing! \n",
        "\n",
        "**Exercise:** Please train the model below."
      ]
    },
    {
      "cell_type": "code",
      "metadata": {
        "id": "_87q3YoHxbaA",
        "colab": {
          "base_uri": "https://localhost:8080/"
        },
        "outputId": "717d5271-fe0f-4a8d-fc8f-ba1c04391efa"
      },
      "source": [
        "# Defining our classifier\n",
        "knn = KNeighborsClassifier(n_neighbors=5)\n",
        "\n",
        "#Training our model \n",
        "knn.fit(X_train, y_train)"
      ],
      "execution_count": 12,
      "outputs": [
        {
          "output_type": "execute_result",
          "data": {
            "text/plain": [
              "KNeighborsClassifier()"
            ]
          },
          "metadata": {},
          "execution_count": 12
        }
      ]
    },
    {
      "cell_type": "markdown",
      "metadata": {
        "id": "YWwEdyewxvpa"
      },
      "source": [
        "## Testing how our model did"
      ]
    },
    {
      "cell_type": "markdown",
      "metadata": {
        "id": "EWt5uAV5xlEa"
      },
      "source": [
        "Finally, we check  how our model did by giving it a *test*. The accuracy score tells us what percentage of test data it classified correctly. 100% means that all the images were classified correctly.\n",
        "\n",
        "**Exercise:** Please fill in the predictions on the test set."
      ]
    },
    {
      "cell_type": "code",
      "metadata": {
        "id": "gyijTbuW7CxI"
      },
      "source": [
        "# Predict what the classes are based on the testing data\n",
        "predictions = knn.predict(X_test)"
      ],
      "execution_count": 13,
      "outputs": []
    },
    {
      "cell_type": "markdown",
      "metadata": {
        "id": "UKM7_1Lo7Epw"
      },
      "source": [
        "Now, let's calculate the accuracy!"
      ]
    },
    {
      "cell_type": "code",
      "metadata": {
        "id": "X-bPk3Y5yD1t",
        "colab": {
          "base_uri": "https://localhost:8080/"
        },
        "outputId": "358ffc90-68e2-4b8d-cea8-9f7b22d793c5"
      },
      "source": [
        "# Print the score on the testing data\n",
        "print(\"KNN Testing Set Accuracy:\")\n",
        "print(accuracy_score(y_test, predictions)*100)"
      ],
      "execution_count": 14,
      "outputs": [
        {
          "output_type": "stream",
          "name": "stdout",
          "text": [
            "KNN Testing Set Accuracy:\n",
            "85.0\n"
          ]
        }
      ]
    },
    {
      "cell_type": "markdown",
      "metadata": {
        "id": "lk9nV-FIyvdh"
      },
      "source": [
        "## Predicting on images"
      ]
    },
    {
      "cell_type": "markdown",
      "metadata": {
        "id": "oNYZDk_aywcp"
      },
      "source": [
        "We can use our trained model to predict whether our car is seeing a `dog` or `road`. Let's try this out - experiment with different images!\n"
      ]
    },
    {
      "cell_type": "code",
      "metadata": {
        "id": "alVYKYzdyfhZ",
        "colab": {
          "base_uri": "https://localhost:8080/",
          "height": 304
        },
        "outputId": "bdc09c98-3f4c-4128-df0d-8ad8ac12d0cb"
      },
      "source": [
        "# Specify which image you want to show\n",
        "image_id = 220 #Change this!\n",
        "\n",
        "# Visualize the image\n",
        "plot_one_image(X_test, y_test, image_id)\n",
        "\n",
        "# Use the model to predict what this might be and print it\n",
        "print('prediction:', knn.predict([X_test[image_id]])[0])"
      ],
      "execution_count": 15,
      "outputs": [
        {
          "output_type": "stream",
          "name": "stdout",
          "text": [
            "label: road\n",
            "prediction: road\n"
          ]
        },
        {
          "output_type": "display_data",
          "data": {
            "image/png": "[encoded data removed]",
            "text/plain": [
              "<Figure size 432x288 with 1 Axes>"
            ]
          },
          "metadata": {
            "needs_background": "light"
          }
        }
      ]
    },
    {
      "cell_type": "markdown",
      "metadata": {
        "id": "S0tDoNWFVVYB"
      },
      "source": [
        "###Exercise: Building a KNN ✍️"
      ]
    },
    {
      "cell_type": "markdown",
      "metadata": {
        "id": "Q8_JZ9PVzKzr"
      },
      "source": [
        "\n",
        "Build your own KNN model where you change the number of neighbors. Try to see how high you can make the accuracy go!! We want our pets to be safe, after all. "
      ]
    },
    {
      "cell_type": "code",
      "metadata": {
        "id": "ZFOgS2VEyTkH",
        "colab": {
          "base_uri": "https://localhost:8080/"
        },
        "outputId": "8c71ff7a-a9a8-4c8c-d8d3-04d5d26839c7"
      },
      "source": [
        "# Defining our classifier\n",
        "knn = KNeighborsClassifier(n_neighbors=13)\n",
        "\n",
        "# Training our model with its trianing input data and labels\n",
        "knn.fit(X_train, y_train)\n",
        "\n",
        "# Predict what the classes are based on the testing data\n",
        "predictions = knn.predict(X_test)\n",
        "\n",
        "# Print the score on the testing data\n",
        "print(\"KNN Testing Set Accuracy:\")\n",
        "print(accuracy_score(y_test, predictions)*100)"
      ],
      "execution_count": 16,
      "outputs": [
        {
          "output_type": "stream",
          "name": "stdout",
          "text": [
            "KNN Testing Set Accuracy:\n",
            "86.66666666666667\n"
          ]
        }
      ]
    },
    {
      "cell_type": "markdown",
      "metadata": {
        "id": "j09evSD_YfJ4"
      },
      "source": [
        "### (Optional) exercise: Experimenting with the number of neighbors\n",
        "\n",
        "Use a **for loop** to try out several different values of **k**, and see how high your accuracy can get. "
      ]
    },
    {
      "cell_type": "code",
      "metadata": {
        "id": "OrZK_qoAZOAd",
        "colab": {
          "base_uri": "https://localhost:8080/"
        },
        "outputId": "541ac317-dd42-40ae-ee9f-7ad437c53838"
      },
      "source": [
        "# Defining our classifier\n",
        "for i in range(10):\n",
        "  knn = KNeighborsClassifier(n_neighbors=int(i+1))\n",
        "\n",
        "  # Training our model with its trianing input data and labels\n",
        "  knn.fit(X_train, y_train)\n",
        "  \n",
        "  # predictions for test\n",
        "  predictions = knn.predict(X_test)\n",
        "\n",
        "  # Print the score on the testing data\n",
        "  print(\"KNN Testing Set Accuracy for %d neighbors:\"%i)\n",
        "  print(accuracy_score(y_test, predictions)*100)"
      ],
      "execution_count": 17,
      "outputs": [
        {
          "output_type": "stream",
          "name": "stdout",
          "text": [
            "KNN Testing Set Accuracy for 0 neighbors:\n",
            "83.33333333333334\n",
            "KNN Testing Set Accuracy for 1 neighbors:\n",
            "91.66666666666666\n",
            "KNN Testing Set Accuracy for 2 neighbors:\n",
            "88.33333333333333\n",
            "KNN Testing Set Accuracy for 3 neighbors:\n",
            "90.41666666666667\n",
            "KNN Testing Set Accuracy for 4 neighbors:\n",
            "85.0\n",
            "KNN Testing Set Accuracy for 5 neighbors:\n",
            "86.66666666666667\n",
            "KNN Testing Set Accuracy for 6 neighbors:\n",
            "84.16666666666667\n",
            "KNN Testing Set Accuracy for 7 neighbors:\n",
            "87.91666666666667\n",
            "KNN Testing Set Accuracy for 8 neighbors:\n",
            "86.66666666666667\n",
            "KNN Testing Set Accuracy for 9 neighbors:\n",
            "87.08333333333333\n"
          ]
        }
      ]
    },
    {
      "cell_type": "markdown",
      "metadata": {
        "id": "6WtVdZCzCOZ0"
      },
      "source": [
        "**Discuss:** What are the advantages and disadvantages of using a bigger vs. smaller **k**?"
      ]
    },
    {
      "cell_type": "markdown",
      "metadata": {
        "id": "doLXp1Ot8D2C"
      },
      "source": [
        "#Neural Networks\n",
        "Now, let's create some new models using neural networks!\n",
        "\n",
        "You can play around with [TensorFlow Playground](https://playground.tensorflow.org/#activation=tanh&batchSize=10&dataset=circle&regDataset=reg-plane&learningRate=0.03&regularizationRate=0&noise=0&networkShape=4,2&seed=0.62283&showTestData=false&discretize=false&percTrainData=50&x=true&y=true&xTimesY=false&xSquared=false&ySquared=false&cosX=false&sinX=false&cosY=false&sinY=false&collectStats=false&problem=classification&initZero=false&hideText=false&regularization_hide=true&regularizationRate_hide=true&learningRate_hide=true&batchSize_hide=true&stepButton_hide=true&activation_hide=true) to get a feel for how neural nets work."
      ]
    },
    {
      "cell_type": "markdown",
      "metadata": {
        "id": "u9iFe-B4zqQA"
      },
      "source": [
        "To build a simple neural network, we use `MLPClassifier` from scikit-learn. We will play with the **number of neurons** and the **number of hidden layers** to adjust the complexity of our model, just like we did in Playground!\n",
        "\n",
        "**Example 1:**\n",
        "Here's how we create a neural network with 1 hidden layer of 3 neurons.\n",
        "\n",
        "`nnet = MLPClassifier(hidden_layer_sizes=(3)) `\n",
        "\n",
        "**Example 2:**\n",
        "\n",
        "Here's how we create a neural network with 2 hidden layers: one of 3 neurons and one of 4 neurons.\n",
        "\n",
        "`nnet = MLPClassifier(hidden_layer_sizes=(3, 4)) `"
      ]
    },
    {
      "cell_type": "code",
      "metadata": {
        "id": "x4XblMWBzm96",
        "colab": {
          "base_uri": "https://localhost:8080/"
        },
        "outputId": "ab365a5b-8fff-4fc5-c300-3cfb81e890e5"
      },
      "source": [
        "# Create and train our multi layer perceptron model\n",
        "nnet = MLPClassifier(hidden_layer_sizes=(3, 4), max_iter= 10000)  ## How many hidden layers? How many neurons does this have?\n",
        "nnet.fit(X_train, y_train)\n",
        "\n",
        "# Predict what the classes are based on the testing data\n",
        "predictions = nnet.predict(X_test)\n",
        "\n",
        "# Print the score on the testing data\n",
        "print(\"MLP Testing Set Score:\")\n",
        "print(accuracy_score(y_test, predictions)*100)"
      ],
      "execution_count": 18,
      "outputs": [
        {
          "output_type": "stream",
          "name": "stdout",
          "text": [
            "MLP Testing Set Score:\n",
            "46.666666666666664\n"
          ]
        }
      ]
    },
    {
      "cell_type": "markdown",
      "metadata": {
        "id": "J1QYZTxq0RCV"
      },
      "source": [
        "**How well did your neural network perform?** \n",
        "\n",
        "Multilayer perceptrons are more complex models and it can be difficult to find the right \"settings\" for them. It takes some trial and error!"
      ]
    },
    {
      "cell_type": "markdown",
      "metadata": {
        "id": "nX27P2eY0yqQ"
      },
      "source": [
        "**Exercise: try the following out and see how well you can get your network to do!**\n",
        "* Train a 1 layer, 10 neuron network for practice\n",
        "* Change the number of neurons and/or add layers to see how well you can do\n",
        "* Increase or decrease the number of iterations"
      ]
    },
    {
      "cell_type": "code",
      "metadata": {
        "id": "JiimE_Sl01Lp",
        "colab": {
          "base_uri": "https://localhost:8080/"
        },
        "outputId": "ca234e50-aa04-484c-b613-1d40833365be"
      },
      "source": [
        "# Create and train our multi layer perceptron model\n",
        "nnet = MLPClassifier(hidden_layer_sizes=(33,33,33), max_iter= 10000) \n",
        "nnet.fit(X_train, y_train)\n",
        "\n",
        "# Predict what the classes are based on the testing data\n",
        "predictions = nnet.predict(X_test)\n",
        "\n",
        "# Print the score on the testing data\n",
        "print(\"MLP Testing Set Score:\")\n",
        "print(accuracy_score(y_test, predictions)*100)"
      ],
      "execution_count": 19,
      "outputs": [
        {
          "output_type": "stream",
          "name": "stdout",
          "text": [
            "MLP Testing Set Score:\n",
            "88.33333333333333\n"
          ]
        }
      ]
    },
    {
      "cell_type": "markdown",
      "metadata": {
        "id": "hXud5MuBXqzo"
      },
      "source": [
        "###Automating our Experiments \n",
        "Here we use a for loop to explore various combinations of number of layers and number of hidden neurons within each layer. Neural networks are hard to tune, so it can be hard to choose the right settings! The model performance can vary a lot. \n",
        "\n",
        "**Exercise:** Try at least 10 configurations to choose the best parameters."
      ]
    },
    {
      "cell_type": "code",
      "metadata": {
        "id": "EDtG4wESX263",
        "colab": {
          "base_uri": "https://localhost:8080/"
        },
        "outputId": "29abfb43-533a-49f3-893f-5765e2e7c5b1"
      },
      "source": [
        "for layers in [(1), (1,1), (10), (10,5),(50,50),(100),(33,33,33)]: #ADD MORE HERE!\n",
        "\n",
        "  print('Layer parameters are ...')\n",
        "  print(layers)\n",
        "  nnet = MLPClassifier(hidden_layer_sizes=layers, max_iter=1000) \n",
        "  \n",
        "  nnet.fit(X_train, y_train)\n",
        "\n",
        "  # Predict what the classes are based on the testing data\n",
        "  predictions = nnet.predict(X_test)\n",
        "\n",
        "  # Print the score on the testing data\n",
        "  print(\"MLP Testing Set Score:\")\n",
        "  print(accuracy_score(y_test, predictions)*100)  "
      ],
      "execution_count": 20,
      "outputs": [
        {
          "output_type": "stream",
          "name": "stdout",
          "text": [
            "Layer parameters are ...\n",
            "1\n",
            "MLP Testing Set Score:\n",
            "53.333333333333336\n",
            "Layer parameters are ...\n",
            "(1, 1)\n",
            "MLP Testing Set Score:\n",
            "46.666666666666664\n",
            "Layer parameters are ...\n",
            "10\n",
            "MLP Testing Set Score:\n",
            "46.666666666666664\n",
            "Layer parameters are ...\n",
            "(10, 5)\n",
            "MLP Testing Set Score:\n",
            "53.333333333333336\n",
            "Layer parameters are ...\n",
            "(50, 50)\n",
            "MLP Testing Set Score:\n",
            "85.41666666666666\n",
            "Layer parameters are ...\n",
            "100\n",
            "MLP Testing Set Score:\n",
            "53.333333333333336\n",
            "Layer parameters are ...\n",
            "(33, 33, 33)\n",
            "MLP Testing Set Score:\n",
            "88.33333333333333\n"
          ]
        }
      ]
    },
    {
      "cell_type": "markdown",
      "metadata": {
        "id": "37O_VE_D1Bdy"
      },
      "source": [
        "# Models for Vision: Convolutional Neural Networks"
      ]
    },
    {
      "cell_type": "markdown",
      "metadata": {
        "id": "QskPD4RT1GlK"
      },
      "source": [
        "There is a famous type of neural network known as convolutional neural networks (CNNs). These types of neural networks work very well on problems to do with computer vision. Let's try one out!"
      ]
    },
    {
      "cell_type": "code",
      "metadata": {
        "id": "nwFojkBG1Sxc",
        "colab": {
          "base_uri": "https://localhost:8080/"
        },
        "outputId": "6a9ee1d0-3683-4572-e17b-7ba92a50a357"
      },
      "source": [
        "x=0\n",
        "# Create and train our multi layer perceptron model\n",
        "cnn = CNNClassifier()\n",
        "\n",
        "cnn.fit(np.array(X_train).astype(float), y_train)\n",
        "\n",
        "# Predict what the classes are based on the testing data\n",
        "predictions = cnn.predict(X_test)\n",
        "\n",
        "# Print the score on the testing data\n",
        "print(\"CNN Testing Set Score:\")\n",
        "print(accuracy_score(y_test, predictions)*100)"
      ],
      "execution_count": 21,
      "outputs": [
        {
          "output_type": "stream",
          "name": "stdout",
          "text": [
            "Epoch 1/30\n",
            "96/96 - 12s - loss: 5.7448 - accuracy: 0.6823 - 12s/epoch - 121ms/step\n",
            "Epoch 2/30\n",
            "96/96 - 1s - loss: 1.1636 - accuracy: 0.8156 - 607ms/epoch - 6ms/step\n",
            "Epoch 3/30\n",
            "96/96 - 1s - loss: 0.5975 - accuracy: 0.8438 - 587ms/epoch - 6ms/step\n",
            "Epoch 4/30\n",
            "96/96 - 1s - loss: 0.4087 - accuracy: 0.8760 - 625ms/epoch - 7ms/step\n",
            "Epoch 5/30\n",
            "96/96 - 1s - loss: 0.3282 - accuracy: 0.9062 - 682ms/epoch - 7ms/step\n",
            "Epoch 6/30\n",
            "96/96 - 0s - loss: 0.2226 - accuracy: 0.9250 - 451ms/epoch - 5ms/step\n",
            "Epoch 7/30\n",
            "96/96 - 1s - loss: 0.2234 - accuracy: 0.9208 - 678ms/epoch - 7ms/step\n",
            "Epoch 8/30\n",
            "96/96 - 1s - loss: 0.1957 - accuracy: 0.9396 - 616ms/epoch - 6ms/step\n",
            "Epoch 9/30\n",
            "96/96 - 0s - loss: 0.1681 - accuracy: 0.9375 - 471ms/epoch - 5ms/step\n",
            "Epoch 10/30\n",
            "96/96 - 1s - loss: 0.1567 - accuracy: 0.9500 - 616ms/epoch - 6ms/step\n",
            "Epoch 11/30\n",
            "96/96 - 1s - loss: 0.1589 - accuracy: 0.9458 - 682ms/epoch - 7ms/step\n",
            "Epoch 12/30\n",
            "96/96 - 1s - loss: 0.1029 - accuracy: 0.9615 - 802ms/epoch - 8ms/step\n",
            "Epoch 13/30\n",
            "96/96 - 1s - loss: 0.1435 - accuracy: 0.9563 - 540ms/epoch - 6ms/step\n",
            "Epoch 14/30\n",
            "96/96 - 1s - loss: 0.0905 - accuracy: 0.9594 - 608ms/epoch - 6ms/step\n",
            "Epoch 15/30\n",
            "96/96 - 1s - loss: 0.0898 - accuracy: 0.9708 - 673ms/epoch - 7ms/step\n",
            "Epoch 16/30\n",
            "96/96 - 1s - loss: 0.0896 - accuracy: 0.9677 - 512ms/epoch - 5ms/step\n",
            "Epoch 17/30\n",
            "96/96 - 1s - loss: 0.0892 - accuracy: 0.9677 - 707ms/epoch - 7ms/step\n",
            "Epoch 18/30\n",
            "96/96 - 1s - loss: 0.0777 - accuracy: 0.9719 - 651ms/epoch - 7ms/step\n",
            "Epoch 19/30\n",
            "96/96 - 1s - loss: 0.0537 - accuracy: 0.9823 - 500ms/epoch - 5ms/step\n",
            "Epoch 20/30\n",
            "96/96 - 1s - loss: 0.0426 - accuracy: 0.9865 - 634ms/epoch - 7ms/step\n",
            "Epoch 21/30\n",
            "96/96 - 1s - loss: 0.0705 - accuracy: 0.9708 - 612ms/epoch - 6ms/step\n",
            "Epoch 22/30\n",
            "96/96 - 1s - loss: 0.0609 - accuracy: 0.9833 - 629ms/epoch - 7ms/step\n",
            "Epoch 23/30\n",
            "96/96 - 1s - loss: 0.0464 - accuracy: 0.9854 - 618ms/epoch - 6ms/step\n",
            "Epoch 24/30\n",
            "96/96 - 1s - loss: 0.0750 - accuracy: 0.9771 - 571ms/epoch - 6ms/step\n",
            "Epoch 25/30\n",
            "96/96 - 0s - loss: 0.0364 - accuracy: 0.9865 - 500ms/epoch - 5ms/step\n",
            "Epoch 26/30\n",
            "96/96 - 1s - loss: 0.0437 - accuracy: 0.9854 - 619ms/epoch - 6ms/step\n",
            "Epoch 27/30\n",
            "96/96 - 1s - loss: 0.0542 - accuracy: 0.9854 - 514ms/epoch - 5ms/step\n",
            "Epoch 28/30\n",
            "96/96 - 1s - loss: 0.0407 - accuracy: 0.9875 - 617ms/epoch - 6ms/step\n",
            "Epoch 29/30\n",
            "96/96 - 1s - loss: 0.0279 - accuracy: 0.9885 - 534ms/epoch - 6ms/step\n",
            "Epoch 30/30\n",
            "96/96 - 1s - loss: 0.0365 - accuracy: 0.9896 - 580ms/epoch - 6ms/step\n",
            "24/24 - 0s - 264ms/epoch - 11ms/step\n",
            "CNN Testing Set Score:\n",
            "94.16666666666667\n"
          ]
        }
      ]
    },
    {
      "cell_type": "markdown",
      "metadata": {
        "id": "SgRPXfiF2kFm"
      },
      "source": [
        "**Discuss: Is this CNN good enough to use in practice?** \n",
        "\n",
        "CNNs typically perform better than basic Neural Networks on vision problems - but like basic Neural Networks, they aren't always consistent in their results and are sensitive to a number of factors. \n",
        "\n",
        "If you're interested in learning more about CNNs, spend some time exploring the [CNN Explainer](https://poloclub.github.io/cnn-explainer/)!\n",
        "\n",
        "**Report to the class your highest model accuracy.**\n",
        "\n",
        "**Bonus Question:** Each of you might see a different max accuracy. Can you think of why that might be?\n"
      ]
    },
    {
      "cell_type": "markdown",
      "metadata": {
        "id": "RVzEpI_xWpE5"
      },
      "source": [
        "### Hopefully your CNN worked *very* well! We want to keep the doggos as safe as they can be.\n",
        "\n",
        "![](https://images.pexels.com/photos/316/black-and-white-animal-dog-pet.jpg?auto=compress&cs=tinysrgb&dpr=2&h=650&w=940)"
      ]
    }
  ]
}